{
 "cells": [
  {
   "cell_type": "markdown",
   "metadata": {},
   "source": [
    "<center> <h1> Classify TAG Households into Income Percentiles </h1> </center>"
   ]
  },
  {
   "cell_type": "markdown",
   "metadata": {},
   "source": [
    "\n",
    "## Table of Contents\n",
    "1. [Library Imports](#Library-Imports)\n",
    "2. [Import Data](#Import-Data)\n",
    "3. [Sampling Frame](#Sampling-Frame)\n",
    "4. [Feature Selection](#Feature-Selection)\n",
    "5. [Income: Response Variable](#Income:-Response-Variable)\n",
    "6. [Inference Methods](#Inference-Methods)\n",
    "7. [Feature Engineering](#Feature-Engineering)\n",
    "8. [Models](#Models)"
   ]
  },
  {
   "cell_type": "markdown",
   "metadata": {},
   "source": [
    "## Library Imports"
   ]
  },
  {
   "cell_type": "code",
   "execution_count": 1,
   "metadata": {},
   "outputs": [],
   "source": [
    "import matplotlib.pyplot as plt\n",
    "import pandas as pd\n",
    "import numpy as np\n",
    "import seaborn as sns\n",
    "import us \n",
    "import datetime as dt\n",
    "import string\n",
    "import copy\n",
    "\n",
    "from sklearn import ensemble\n",
    "from sklearn.model_selection import train_test_split\n",
    "from sklearn import metrics\n",
    "from sklearn.linear_model import LogisticRegression\n",
    "from sklearn.linear_model import LinearRegression\n",
    "from sklearn.metrics import accuracy_score\n",
    "from sklearn.metrics import confusion_matrix\n",
    "from sklearn.model_selection import cross_val_score\n",
    "from sklearn.preprocessing import StandardScaler\n",
    "\n",
    "from sklearn.pipeline import Pipeline\n",
    "from sklearn.model_selection import train_test_split\n",
    "from sklearn.linear_model import LogisticRegression\n",
    "from sklearn.ensemble import RandomForestClassifier, RandomForestRegressor\n",
    "from sklearn.preprocessing import OneHotEncoder\n",
    "from sklearn.compose import ColumnTransformer\n",
    "from sklearn.preprocessing import StandardScaler\n",
    "from sklearn.impute import SimpleImputer\n",
    "from sklearn import metrics \n",
    "from sklearn.metrics import recall_score, precision_score, accuracy_score, roc_auc_score, confusion_matrix, mean_squared_error, r2_score\n",
    "from sklearn.feature_selection import SelectKBest,f_regression\n",
    "from sklearn.model_selection import GridSearchCV\n",
    "from sklearn.model_selection import RandomizedSearchCV\n",
    "from sklearn.metrics import classification_report"
   ]
  },
  {
   "cell_type": "markdown",
   "metadata": {},
   "source": [
    "## Import Data"
   ]
  },
  {
   "cell_type": "code",
   "execution_count": 143,
   "metadata": {},
   "outputs": [],
   "source": [
    "tag = pd.read_stata(\"tag/TAG Survey_Data_18 Sept 2019.dta\")\n",
    "ihds = pd.read_stata(\"ihds/IHDS 2/DS0002/36151-0002-Data.dta\")\n",
    "ihds.columns = map(str.lower, ihds.columns) # Lower Case all Column Names"
   ]
  },
  {
   "cell_type": "markdown",
   "metadata": {},
   "source": [
    "## Sampling Frame"
   ]
  },
  {
   "cell_type": "markdown",
   "metadata": {},
   "source": [
    "* I need to figure out the variable to choose for the sampling frame. For now, I will continue with the entire IHDS Data Set. Currently, I will organize my code and ensure generality. Note: These girls are in the age range 15-20 unlike in TAG where the age range is 13-20."
   ]
  },
  {
   "cell_type": "code",
   "execution_count": 144,
   "metadata": {},
   "outputs": [
    {
     "data": {
      "text/plain": [
       "Text(0.5, 0, 'No. of teenage girls')"
      ]
     },
     "execution_count": 144,
     "metadata": {},
     "output_type": "execute_result"
    },
    {
     "data": {
      "image/png": "[encoded data removed]",
      "text/plain": [
       "<Figure size 432x288 with 1 Axes>"
      ]
     },
     "metadata": {
      "needs_background": "light"
     },
     "output_type": "display_data"
    }
   ],
   "source": [
    "x = np.arange(0, len(np.array(ihds['nteenf'].value_counts())))\n",
    "y = np.array(ihds['nteenf'].value_counts())\n",
    "sns.barplot(x, y)\n",
    "plt.title(\"Number of Teenage Girls per Household in IHDS\")\n",
    "plt.ylabel(\"No. of households\")\n",
    "plt.xlabel(\"No. of teenage girls\")"
   ]
  },
  {
   "cell_type": "code",
   "execution_count": 145,
   "metadata": {},
   "outputs": [],
   "source": [
    "ihds_sf = ihds[ihds['nteenf'] > 0]"
   ]
  },
  {
   "cell_type": "code",
   "execution_count": 146,
   "metadata": {},
   "outputs": [
    {
     "name": "stdout",
     "output_type": "stream",
     "text": [
      "Size of IHDS: 42152\n",
      "Size of IHDS Sampling Frame: 10124\n"
     ]
    }
   ],
   "source": [
    "print(\"Size of IHDS: \" + str(len(ihds)))\n",
    "print(\"Size of IHDS Sampling Frame: \" + str(len(ihds_sf)))"
   ]
  },
  {
   "cell_type": "markdown",
   "metadata": {},
   "source": [
    "## Feature Selection\n"
   ]
  },
  {
   "cell_type": "markdown",
   "metadata": {},
   "source": [
    "### 1. Household Assets"
   ]
  },
  {
   "cell_type": "code",
   "execution_count": 147,
   "metadata": {},
   "outputs": [],
   "source": [
    "tag_asset_array = ['Electricity', 'Mattress', 'Pressure Cooker', 'Chair', 'Cot/Bed', \\\n",
    "          'Table', 'Electric Fan', 'Radio/Transistor', 'Black and White TV', 'Color TV', \\\n",
    "          'Sewing Machine', 'Mobile Telephone', 'Landline Telephone', 'Internet', \\\n",
    "          'Computer/Laptop', 'Refrigerator', 'AC', 'Washing Machine', 'Watch/Clock', \\\n",
    "          'Bicycle', 'Motorcycle/Scooter', 'Animal Drawn Cart', 'Car', 'Water Pump', \\\n",
    "          'Thresher', 'Tractor']\n",
    "tag_variables = ['A8_' + alpha for alpha in list(string.ascii_lowercase)]"
   ]
  },
  {
   "cell_type": "code",
   "execution_count": 148,
   "metadata": {},
   "outputs": [],
   "source": [
    "tag_assets = tag[tag_variables].copy(deep=True)\n",
    "tag_assets.columns = tag_asset_array"
   ]
  },
  {
   "cell_type": "code",
   "execution_count": 149,
   "metadata": {},
   "outputs": [],
   "source": [
    "tag_assets.replace(to_replace='Yes', value=1, inplace=True)\n",
    "tag_assets.replace(to_replace='No', value=0, inplace=True)"
   ]
  },
  {
   "cell_type": "markdown",
   "metadata": {},
   "source": [
    "#### Note: \n",
    "\n",
    "1. IHDS does not have mattress data.\n",
    "2. IHDS has a variable for Chair or Table so we will transform that for TAG and create a new column.\n",
    "3. IHDS does not have data on 'Cot/Bed' but on Cot so we will remove this variable.\n",
    "4. I will assume that Fridge and Refrigerator is the same thing.\n",
    "5. I will assume that Air Cooler == AC.\n",
    "6. IHDS does not have data on Animal Cart so I will remove that feature.\n",
    "7. IHDS does not have data on Water Pump so I will remove that feature\n",
    "8. IHDS does not have data on Tractor alone so I will remove that feature.\n",
    "9. IHDS does not have data on Radio/Transistor so I will remove that.\n",
    "10. IHDS does not have data on Internet so I will remove that.\n",
    "\n",
    "#### Things not considered:\n",
    "1. If an air conditioner/air cooler was owned CG4 was mentioned as yes\n",
    "2. If colored television was owned Black and White was also considered as yes\n",
    "3. If scooter or automobile was owned, then bicycle was automatically a yes\n",
    "4. If an automobile was owned then a scooter was automatically yes."
   ]
  },
  {
   "cell_type": "code",
   "execution_count": 150,
   "metadata": {},
   "outputs": [],
   "source": [
    "# Point 2: Create Chair or Table column\n",
    "chair_table_col = np.logical_or(np.array(tag_assets['Chair']), np.array(tag_assets['Table'])).astype(int)\n",
    "tag_assets.insert(3, 'Chair/Table', chair_table_col)"
   ]
  },
  {
   "cell_type": "code",
   "execution_count": 151,
   "metadata": {},
   "outputs": [],
   "source": [
    "# Points 1, 2, 3, 6, 7, 8, 9, 10 -> Removal of features\n",
    "tag_assets.drop(['Mattress', 'Chair', 'Table', 'Cot/Bed', 'Animal Drawn Cart', 'Water Pump', \\\n",
    "                  'Tractor', 'Radio/Transistor', 'Internet'], axis=1, inplace=True)"
   ]
  },
  {
   "cell_type": "code",
   "execution_count": 152,
   "metadata": {},
   "outputs": [],
   "source": [
    "ihds_asset_array = ['Electricity', 'Pressure Cooker', 'Chair/Table', \\\n",
    "          'Electric Fan', 'Black and White TV', 'Color TV', \\\n",
    "          'Sewing Machine', 'Mobile Telephone', 'Landline Telephone', \\\n",
    "          'Computer/Laptop', 'Refrigerator', 'AC', 'Washing Machine', 'Watch/Clock', \\\n",
    "          'Bicycle', 'Motorcycle/Scooter', 'Car', \\\n",
    "          'Thresher']\n",
    "ihds_variables = ['fu1', 'cg19', 'cg14', 'cg13', 'cg9', 'cg10', 'cg5', \\\n",
    "                 'cg17', 'cg16', 'cgcomputer', 'cg18', 'cg11', 'cg23', \\\n",
    "                 'cg12', 'cg4', 'cg8', 'cg21', 'fm40f']"
   ]
  },
  {
   "cell_type": "code",
   "execution_count": 153,
   "metadata": {},
   "outputs": [
    {
     "data": {
      "text/plain": [
       "True"
      ]
     },
     "execution_count": 153,
     "metadata": {},
     "output_type": "execute_result"
    }
   ],
   "source": [
    "(tag_assets.columns == ihds_asset_array).all()"
   ]
  },
  {
   "cell_type": "code",
   "execution_count": 154,
   "metadata": {},
   "outputs": [],
   "source": [
    "ihds_assets = ihds[ihds_variables].copy(deep=True)\n",
    "ihds_assets.columns = ihds_asset_array"
   ]
  },
  {
   "cell_type": "markdown",
   "metadata": {},
   "source": [
    "We notice that there are a lot of missing values for the household asset thresher. I imagine that all these values are missing because these households are in an urban setting and don't need threshers. Thus, I will impute threher values such that all NaN values will be converted to 1. I will also add an extra column where we can identify whether the value for thresher was NaN or not. My hypothesis is that such households will be at higher income distributions."
   ]
  },
  {
   "cell_type": "code",
   "execution_count": 155,
   "metadata": {},
   "outputs": [
    {
     "data": {
      "text/html": [
       "<div>\n",
       "<style scoped>\n",
       "    .dataframe tbody tr th:only-of-type {\n",
       "        vertical-align: middle;\n",
       "    }\n",
       "\n",
       "    .dataframe tbody tr th {\n",
       "        vertical-align: top;\n",
       "    }\n",
       "\n",
       "    .dataframe thead th {\n",
       "        text-align: right;\n",
       "    }\n",
       "</style>\n",
       "<table border=\"1\" class=\"dataframe\">\n",
       "  <thead>\n",
       "    <tr style=\"text-align: right;\">\n",
       "      <th></th>\n",
       "      <th>Electricity</th>\n",
       "      <th>Pressure Cooker</th>\n",
       "      <th>Chair/Table</th>\n",
       "      <th>Electric Fan</th>\n",
       "      <th>Black and White TV</th>\n",
       "      <th>Color TV</th>\n",
       "      <th>Sewing Machine</th>\n",
       "      <th>Mobile Telephone</th>\n",
       "      <th>Landline Telephone</th>\n",
       "      <th>Computer/Laptop</th>\n",
       "      <th>Refrigerator</th>\n",
       "      <th>AC</th>\n",
       "      <th>Washing Machine</th>\n",
       "      <th>Watch/Clock</th>\n",
       "      <th>Bicycle</th>\n",
       "      <th>Motorcycle/Scooter</th>\n",
       "      <th>Car</th>\n",
       "      <th>Thresher</th>\n",
       "    </tr>\n",
       "  </thead>\n",
       "  <tbody>\n",
       "    <tr>\n",
       "      <th>0</th>\n",
       "      <td>Yes 1</td>\n",
       "      <td>Yes 1</td>\n",
       "      <td>Yes 1</td>\n",
       "      <td>Yes 1</td>\n",
       "      <td>No 0</td>\n",
       "      <td>Yes 1</td>\n",
       "      <td>No 0</td>\n",
       "      <td>Yes 1</td>\n",
       "      <td>No 0</td>\n",
       "      <td>No 0</td>\n",
       "      <td>Yes 1</td>\n",
       "      <td>No 0</td>\n",
       "      <td>Yes 1</td>\n",
       "      <td>Yes 1</td>\n",
       "      <td>No 0</td>\n",
       "      <td>No 0</td>\n",
       "      <td>No 0</td>\n",
       "      <td>0.0</td>\n",
       "    </tr>\n",
       "    <tr>\n",
       "      <th>1</th>\n",
       "      <td>Yes 1</td>\n",
       "      <td>Yes 1</td>\n",
       "      <td>Yes 1</td>\n",
       "      <td>Yes 1</td>\n",
       "      <td>Yes 1</td>\n",
       "      <td>Yes 1</td>\n",
       "      <td>Yes 1</td>\n",
       "      <td>Yes 1</td>\n",
       "      <td>No 0</td>\n",
       "      <td>No 0</td>\n",
       "      <td>Yes 1</td>\n",
       "      <td>No 0</td>\n",
       "      <td>Yes 1</td>\n",
       "      <td>Yes 1</td>\n",
       "      <td>No 0</td>\n",
       "      <td>No 0</td>\n",
       "      <td>No 0</td>\n",
       "      <td>NaN</td>\n",
       "    </tr>\n",
       "    <tr>\n",
       "      <th>2</th>\n",
       "      <td>Yes 1</td>\n",
       "      <td>Yes 1</td>\n",
       "      <td>Yes 1</td>\n",
       "      <td>Yes 1</td>\n",
       "      <td>No 0</td>\n",
       "      <td>Yes 1</td>\n",
       "      <td>No 0</td>\n",
       "      <td>Yes 1</td>\n",
       "      <td>No 0</td>\n",
       "      <td>No 0</td>\n",
       "      <td>Yes 1</td>\n",
       "      <td>No 0</td>\n",
       "      <td>No 0</td>\n",
       "      <td>Yes 1</td>\n",
       "      <td>No 0</td>\n",
       "      <td>No 0</td>\n",
       "      <td>Yes 1</td>\n",
       "      <td>0.0</td>\n",
       "    </tr>\n",
       "    <tr>\n",
       "      <th>3</th>\n",
       "      <td>Yes 1</td>\n",
       "      <td>Yes 1</td>\n",
       "      <td>Yes 1</td>\n",
       "      <td>Yes 1</td>\n",
       "      <td>No 0</td>\n",
       "      <td>Yes 1</td>\n",
       "      <td>No 0</td>\n",
       "      <td>Yes 1</td>\n",
       "      <td>No 0</td>\n",
       "      <td>No 0</td>\n",
       "      <td>No 0</td>\n",
       "      <td>No 0</td>\n",
       "      <td>No 0</td>\n",
       "      <td>Yes 1</td>\n",
       "      <td>No 0</td>\n",
       "      <td>No 0</td>\n",
       "      <td>No 0</td>\n",
       "      <td>0.0</td>\n",
       "    </tr>\n",
       "    <tr>\n",
       "      <th>4</th>\n",
       "      <td>Yes 1</td>\n",
       "      <td>Yes 1</td>\n",
       "      <td>No 0</td>\n",
       "      <td>No 0</td>\n",
       "      <td>No 0</td>\n",
       "      <td>Yes 1</td>\n",
       "      <td>No 0</td>\n",
       "      <td>Yes 1</td>\n",
       "      <td>No 0</td>\n",
       "      <td>No 0</td>\n",
       "      <td>No 0</td>\n",
       "      <td>No 0</td>\n",
       "      <td>No 0</td>\n",
       "      <td>Yes 1</td>\n",
       "      <td>No 0</td>\n",
       "      <td>No 0</td>\n",
       "      <td>No 0</td>\n",
       "      <td>NaN</td>\n",
       "    </tr>\n",
       "  </tbody>\n",
       "</table>\n",
       "</div>"
      ],
      "text/plain": [
       "  Electricity Pressure Cooker Chair/Table Electric Fan Black and White TV  \\\n",
       "0       Yes 1           Yes 1       Yes 1        Yes 1               No 0   \n",
       "1       Yes 1           Yes 1       Yes 1        Yes 1              Yes 1   \n",
       "2       Yes 1           Yes 1       Yes 1        Yes 1               No 0   \n",
       "3       Yes 1           Yes 1       Yes 1        Yes 1               No 0   \n",
       "4       Yes 1           Yes 1        No 0         No 0               No 0   \n",
       "\n",
       "  Color TV Sewing Machine Mobile Telephone Landline Telephone Computer/Laptop  \\\n",
       "0    Yes 1           No 0            Yes 1               No 0            No 0   \n",
       "1    Yes 1          Yes 1            Yes 1               No 0            No 0   \n",
       "2    Yes 1           No 0            Yes 1               No 0            No 0   \n",
       "3    Yes 1           No 0            Yes 1               No 0            No 0   \n",
       "4    Yes 1           No 0            Yes 1               No 0            No 0   \n",
       "\n",
       "  Refrigerator    AC Washing Machine Watch/Clock Bicycle Motorcycle/Scooter  \\\n",
       "0        Yes 1  No 0           Yes 1       Yes 1    No 0               No 0   \n",
       "1        Yes 1  No 0           Yes 1       Yes 1    No 0               No 0   \n",
       "2        Yes 1  No 0            No 0       Yes 1    No 0               No 0   \n",
       "3         No 0  No 0            No 0       Yes 1    No 0               No 0   \n",
       "4         No 0  No 0            No 0       Yes 1    No 0               No 0   \n",
       "\n",
       "     Car  Thresher  \n",
       "0   No 0       0.0  \n",
       "1   No 0       NaN  \n",
       "2  Yes 1       0.0  \n",
       "3   No 0       0.0  \n",
       "4   No 0       NaN  "
      ]
     },
     "execution_count": 155,
     "metadata": {},
     "output_type": "execute_result"
    }
   ],
   "source": [
    "ihds_assets.head()"
   ]
  },
  {
   "cell_type": "markdown",
   "metadata": {},
   "source": [
    "#### Note:\n",
    "1. For Threshers, anything more than a 0 means the household owns a thresher."
   ]
  },
  {
   "cell_type": "code",
   "execution_count": 156,
   "metadata": {},
   "outputs": [],
   "source": [
    "ihds_assets.drop('Thresher', axis=1, inplace=True)"
   ]
  },
  {
   "cell_type": "code",
   "execution_count": 157,
   "metadata": {},
   "outputs": [],
   "source": [
    "ihds_assets.replace(to_replace='Yes 1', value=1, inplace=True)\n",
    "ihds_assets.replace(to_replace='No 0', value=0, inplace=True)"
   ]
  },
  {
   "cell_type": "code",
   "execution_count": 158,
   "metadata": {
    "scrolled": true
   },
   "outputs": [
    {
     "data": {
      "text/html": [
       "<div>\n",
       "<style scoped>\n",
       "    .dataframe tbody tr th:only-of-type {\n",
       "        vertical-align: middle;\n",
       "    }\n",
       "\n",
       "    .dataframe tbody tr th {\n",
       "        vertical-align: top;\n",
       "    }\n",
       "\n",
       "    .dataframe thead th {\n",
       "        text-align: right;\n",
       "    }\n",
       "</style>\n",
       "<table border=\"1\" class=\"dataframe\">\n",
       "  <thead>\n",
       "    <tr style=\"text-align: right;\">\n",
       "      <th></th>\n",
       "      <th>Electricity</th>\n",
       "      <th>Pressure Cooker</th>\n",
       "      <th>Chair/Table</th>\n",
       "      <th>Electric Fan</th>\n",
       "      <th>Black and White TV</th>\n",
       "      <th>Color TV</th>\n",
       "      <th>Sewing Machine</th>\n",
       "      <th>Mobile Telephone</th>\n",
       "      <th>Landline Telephone</th>\n",
       "      <th>Computer/Laptop</th>\n",
       "      <th>Refrigerator</th>\n",
       "      <th>AC</th>\n",
       "      <th>Washing Machine</th>\n",
       "      <th>Watch/Clock</th>\n",
       "      <th>Bicycle</th>\n",
       "      <th>Motorcycle/Scooter</th>\n",
       "      <th>Car</th>\n",
       "    </tr>\n",
       "  </thead>\n",
       "  <tbody>\n",
       "    <tr>\n",
       "      <th>0</th>\n",
       "      <td>1</td>\n",
       "      <td>1</td>\n",
       "      <td>1</td>\n",
       "      <td>1</td>\n",
       "      <td>0</td>\n",
       "      <td>1</td>\n",
       "      <td>0</td>\n",
       "      <td>1</td>\n",
       "      <td>0</td>\n",
       "      <td>0</td>\n",
       "      <td>1</td>\n",
       "      <td>0</td>\n",
       "      <td>1</td>\n",
       "      <td>1</td>\n",
       "      <td>0</td>\n",
       "      <td>0</td>\n",
       "      <td>0</td>\n",
       "    </tr>\n",
       "    <tr>\n",
       "      <th>1</th>\n",
       "      <td>1</td>\n",
       "      <td>1</td>\n",
       "      <td>1</td>\n",
       "      <td>1</td>\n",
       "      <td>1</td>\n",
       "      <td>1</td>\n",
       "      <td>1</td>\n",
       "      <td>1</td>\n",
       "      <td>0</td>\n",
       "      <td>0</td>\n",
       "      <td>1</td>\n",
       "      <td>0</td>\n",
       "      <td>1</td>\n",
       "      <td>1</td>\n",
       "      <td>0</td>\n",
       "      <td>0</td>\n",
       "      <td>0</td>\n",
       "    </tr>\n",
       "    <tr>\n",
       "      <th>2</th>\n",
       "      <td>1</td>\n",
       "      <td>1</td>\n",
       "      <td>1</td>\n",
       "      <td>1</td>\n",
       "      <td>0</td>\n",
       "      <td>1</td>\n",
       "      <td>0</td>\n",
       "      <td>1</td>\n",
       "      <td>0</td>\n",
       "      <td>0</td>\n",
       "      <td>1</td>\n",
       "      <td>0</td>\n",
       "      <td>0</td>\n",
       "      <td>1</td>\n",
       "      <td>0</td>\n",
       "      <td>0</td>\n",
       "      <td>1</td>\n",
       "    </tr>\n",
       "    <tr>\n",
       "      <th>3</th>\n",
       "      <td>1</td>\n",
       "      <td>1</td>\n",
       "      <td>1</td>\n",
       "      <td>1</td>\n",
       "      <td>0</td>\n",
       "      <td>1</td>\n",
       "      <td>0</td>\n",
       "      <td>1</td>\n",
       "      <td>0</td>\n",
       "      <td>0</td>\n",
       "      <td>0</td>\n",
       "      <td>0</td>\n",
       "      <td>0</td>\n",
       "      <td>1</td>\n",
       "      <td>0</td>\n",
       "      <td>0</td>\n",
       "      <td>0</td>\n",
       "    </tr>\n",
       "    <tr>\n",
       "      <th>4</th>\n",
       "      <td>1</td>\n",
       "      <td>1</td>\n",
       "      <td>0</td>\n",
       "      <td>0</td>\n",
       "      <td>0</td>\n",
       "      <td>1</td>\n",
       "      <td>0</td>\n",
       "      <td>1</td>\n",
       "      <td>0</td>\n",
       "      <td>0</td>\n",
       "      <td>0</td>\n",
       "      <td>0</td>\n",
       "      <td>0</td>\n",
       "      <td>1</td>\n",
       "      <td>0</td>\n",
       "      <td>0</td>\n",
       "      <td>0</td>\n",
       "    </tr>\n",
       "  </tbody>\n",
       "</table>\n",
       "</div>"
      ],
      "text/plain": [
       "  Electricity Pressure Cooker Chair/Table Electric Fan Black and White TV  \\\n",
       "0           1               1           1            1                  0   \n",
       "1           1               1           1            1                  1   \n",
       "2           1               1           1            1                  0   \n",
       "3           1               1           1            1                  0   \n",
       "4           1               1           0            0                  0   \n",
       "\n",
       "  Color TV Sewing Machine Mobile Telephone Landline Telephone Computer/Laptop  \\\n",
       "0        1              0                1                  0               0   \n",
       "1        1              1                1                  0               0   \n",
       "2        1              0                1                  0               0   \n",
       "3        1              0                1                  0               0   \n",
       "4        1              0                1                  0               0   \n",
       "\n",
       "  Refrigerator AC Washing Machine Watch/Clock Bicycle Motorcycle/Scooter Car  \n",
       "0            1  0               1           1       0                  0   0  \n",
       "1            1  0               1           1       0                  0   0  \n",
       "2            1  0               0           1       0                  0   1  \n",
       "3            0  0               0           1       0                  0   0  \n",
       "4            0  0               0           1       0                  0   0  "
      ]
     },
     "execution_count": 158,
     "metadata": {},
     "output_type": "execute_result"
    }
   ],
   "source": [
    "ihds_assets.head()"
   ]
  },
  {
   "cell_type": "code",
   "execution_count": 159,
   "metadata": {
    "scrolled": true
   },
   "outputs": [
    {
     "data": {
      "text/html": [
       "<div>\n",
       "<style scoped>\n",
       "    .dataframe tbody tr th:only-of-type {\n",
       "        vertical-align: middle;\n",
       "    }\n",
       "\n",
       "    .dataframe tbody tr th {\n",
       "        vertical-align: top;\n",
       "    }\n",
       "\n",
       "    .dataframe thead th {\n",
       "        text-align: right;\n",
       "    }\n",
       "</style>\n",
       "<table border=\"1\" class=\"dataframe\">\n",
       "  <thead>\n",
       "    <tr style=\"text-align: right;\">\n",
       "      <th></th>\n",
       "      <th>Electricity</th>\n",
       "      <th>Pressure Cooker</th>\n",
       "      <th>Chair/Table</th>\n",
       "      <th>Electric Fan</th>\n",
       "      <th>Black and White TV</th>\n",
       "      <th>Color TV</th>\n",
       "      <th>Sewing Machine</th>\n",
       "      <th>Mobile Telephone</th>\n",
       "      <th>Landline Telephone</th>\n",
       "      <th>Computer/Laptop</th>\n",
       "      <th>Refrigerator</th>\n",
       "      <th>AC</th>\n",
       "      <th>Washing Machine</th>\n",
       "      <th>Watch/Clock</th>\n",
       "      <th>Bicycle</th>\n",
       "      <th>Motorcycle/Scooter</th>\n",
       "      <th>Car</th>\n",
       "    </tr>\n",
       "  </thead>\n",
       "  <tbody>\n",
       "    <tr>\n",
       "      <th>count</th>\n",
       "      <td>41988</td>\n",
       "      <td>42126</td>\n",
       "      <td>42130</td>\n",
       "      <td>42130</td>\n",
       "      <td>42114</td>\n",
       "      <td>42128</td>\n",
       "      <td>42128</td>\n",
       "      <td>42128</td>\n",
       "      <td>42123</td>\n",
       "      <td>42121</td>\n",
       "      <td>42126</td>\n",
       "      <td>42118</td>\n",
       "      <td>42118</td>\n",
       "      <td>42122</td>\n",
       "      <td>42127</td>\n",
       "      <td>42127</td>\n",
       "      <td>42104</td>\n",
       "    </tr>\n",
       "    <tr>\n",
       "      <th>unique</th>\n",
       "      <td>2</td>\n",
       "      <td>2</td>\n",
       "      <td>2</td>\n",
       "      <td>2</td>\n",
       "      <td>2</td>\n",
       "      <td>2</td>\n",
       "      <td>2</td>\n",
       "      <td>2</td>\n",
       "      <td>2</td>\n",
       "      <td>2</td>\n",
       "      <td>2</td>\n",
       "      <td>2</td>\n",
       "      <td>2</td>\n",
       "      <td>2</td>\n",
       "      <td>2</td>\n",
       "      <td>2</td>\n",
       "      <td>2</td>\n",
       "    </tr>\n",
       "    <tr>\n",
       "      <th>top</th>\n",
       "      <td>1</td>\n",
       "      <td>1</td>\n",
       "      <td>1</td>\n",
       "      <td>1</td>\n",
       "      <td>0</td>\n",
       "      <td>1</td>\n",
       "      <td>0</td>\n",
       "      <td>1</td>\n",
       "      <td>0</td>\n",
       "      <td>0</td>\n",
       "      <td>0</td>\n",
       "      <td>0</td>\n",
       "      <td>0</td>\n",
       "      <td>1</td>\n",
       "      <td>1</td>\n",
       "      <td>0</td>\n",
       "      <td>0</td>\n",
       "    </tr>\n",
       "    <tr>\n",
       "      <th>freq</th>\n",
       "      <td>36685</td>\n",
       "      <td>22901</td>\n",
       "      <td>32794</td>\n",
       "      <td>31780</td>\n",
       "      <td>39987</td>\n",
       "      <td>25904</td>\n",
       "      <td>31133</td>\n",
       "      <td>33909</td>\n",
       "      <td>38681</td>\n",
       "      <td>39169</td>\n",
       "      <td>30367</td>\n",
       "      <td>34631</td>\n",
       "      <td>37966</td>\n",
       "      <td>36191</td>\n",
       "      <td>22833</td>\n",
       "      <td>30029</td>\n",
       "      <td>40005</td>\n",
       "    </tr>\n",
       "  </tbody>\n",
       "</table>\n",
       "</div>"
      ],
      "text/plain": [
       "        Electricity  Pressure Cooker  Chair/Table  Electric Fan  \\\n",
       "count         41988            42126        42130         42130   \n",
       "unique            2                2            2             2   \n",
       "top               1                1            1             1   \n",
       "freq          36685            22901        32794         31780   \n",
       "\n",
       "        Black and White TV  Color TV  Sewing Machine  Mobile Telephone  \\\n",
       "count                42114     42128           42128             42128   \n",
       "unique                   2         2               2                 2   \n",
       "top                      0         1               0                 1   \n",
       "freq                 39987     25904           31133             33909   \n",
       "\n",
       "        Landline Telephone  Computer/Laptop  Refrigerator     AC  \\\n",
       "count                42123            42121         42126  42118   \n",
       "unique                   2                2             2      2   \n",
       "top                      0                0             0      0   \n",
       "freq                 38681            39169         30367  34631   \n",
       "\n",
       "        Washing Machine  Watch/Clock  Bicycle  Motorcycle/Scooter    Car  \n",
       "count             42118        42122    42127               42127  42104  \n",
       "unique                2            2        2                   2      2  \n",
       "top                   0            1        1                   0      0  \n",
       "freq              37966        36191    22833               30029  40005  "
      ]
     },
     "execution_count": 159,
     "metadata": {},
     "output_type": "execute_result"
    }
   ],
   "source": [
    "ihds_assets.describe()"
   ]
  },
  {
   "cell_type": "code",
   "execution_count": 160,
   "metadata": {},
   "outputs": [],
   "source": [
    "ihds_asset_array = ihds_assets.columns\n",
    "ihds_asset_array = ihds_asset_array.tolist()"
   ]
  },
  {
   "cell_type": "code",
   "execution_count": 161,
   "metadata": {},
   "outputs": [],
   "source": [
    "ihds_asset_array = ihds_assets.columns.tolist()"
   ]
  },
  {
   "cell_type": "markdown",
   "metadata": {},
   "source": [
    "### 2. Demographics"
   ]
  },
  {
   "cell_type": "markdown",
   "metadata": {},
   "source": [
    "1. First, we will use stateid. I want to use the column name \"stateid2\", but I cannot find it in the IHDS Survey. So, I will settle for State ID as of now. Every State ID is already a categorical variable so I imagine it would be okay to input this into our classification. No I cannot, I will convert State to Float as well."
   ]
  },
  {
   "cell_type": "code",
   "execution_count": 162,
   "metadata": {},
   "outputs": [],
   "source": [
    "ihds_demo = pd.DataFrame(data={'State': ihds['stateid'], \"Urban/Rural\": \\\n",
    "                              ihds['urban2011'], \"Metropolitan\": ihds['metro6'], \\\n",
    "                              \"Religion\": ihds['id11'], \"Caste\": ihds[\"id13\"]})"
   ]
  },
  {
   "cell_type": "code",
   "execution_count": 163,
   "metadata": {},
   "outputs": [],
   "source": [
    "ihds_demo_array = ihds_demo.columns.tolist()"
   ]
  },
  {
   "cell_type": "code",
   "execution_count": 164,
   "metadata": {},
   "outputs": [
    {
     "data": {
      "text/plain": [
       "False    42152\n",
       "Name: State, dtype: int64"
      ]
     },
     "execution_count": 164,
     "metadata": {},
     "output_type": "execute_result"
    }
   ],
   "source": [
    "ihds_demo['State'].isna().value_counts()"
   ]
  },
  {
   "cell_type": "markdown",
   "metadata": {},
   "source": [
    "As we can see, there are a lot of missing values for the metropolitan feature so we will ignore that feature all together for now. We will come back to it later."
   ]
  },
  {
   "cell_type": "markdown",
   "metadata": {},
   "source": [
    "Problem: How is the categorical ordering decided?"
   ]
  },
  {
   "cell_type": "code",
   "execution_count": 165,
   "metadata": {},
   "outputs": [],
   "source": [
    "state_categories = np.array(ihds_demo['State'].value_counts().index.categories)"
   ]
  },
  {
   "cell_type": "code",
   "execution_count": 166,
   "metadata": {},
   "outputs": [],
   "source": [
    "ihds_demo.drop(\"Metropolitan\", axis=1, inplace=True)"
   ]
  },
  {
   "cell_type": "code",
   "execution_count": 167,
   "metadata": {},
   "outputs": [
    {
     "data": {
      "text/plain": [
       "<matplotlib.axes._subplots.AxesSubplot at 0x1a2b127d50>"
      ]
     },
     "execution_count": 167,
     "metadata": {},
     "output_type": "execute_result"
    },
    {
     "data": {
      "image/png": "[encoded data removed]",
      "text/plain": [
       "<Figure size 432x288 with 1 Axes>"
      ]
     },
     "metadata": {
      "needs_background": "light"
     },
     "output_type": "display_data"
    }
   ],
   "source": [
    "ihds_demo['Caste'].value_counts().plot.bar()"
   ]
  },
  {
   "cell_type": "code",
   "execution_count": 168,
   "metadata": {},
   "outputs": [],
   "source": [
    "ihds_demo_array = ihds_demo.columns.tolist()"
   ]
  },
  {
   "cell_type": "markdown",
   "metadata": {},
   "source": [
    "### 3. Education"
   ]
  },
  {
   "cell_type": "markdown",
   "metadata": {},
   "source": [
    "1. I will work with Highest Male Education and Highest Female Education in Household. TAG has data on how much the girl's mother and father studt so this might not be exactly relevant but let's go for it for now. There is also data on highest overall adult education. But for now I have made the choice to work with male/female."
   ]
  },
  {
   "cell_type": "code",
   "execution_count": 169,
   "metadata": {},
   "outputs": [],
   "source": [
    "ihds_ed = pd.DataFrame(data={\"Highest Male Education\": ihds[\"hheducm\"] \\\n",
    "                             ,\"Highest Female Education\": ihds[\"hheducf\"] \\\n",
    "                            , \"Highest Adult Education\": ihds['hheduc']})"
   ]
  },
  {
   "cell_type": "code",
   "execution_count": 170,
   "metadata": {},
   "outputs": [],
   "source": [
    "education_categories = np.array(ihds_ed['Highest Female Education'].value_counts().index.categories)"
   ]
  },
  {
   "cell_type": "code",
   "execution_count": 171,
   "metadata": {},
   "outputs": [],
   "source": [
    "ihds_ed.replace(to_replace=education_categories, value=np.arange(0, 17), inplace=True)"
   ]
  },
  {
   "cell_type": "markdown",
   "metadata": {},
   "source": [
    "Creating Array of Column names for education."
   ]
  },
  {
   "cell_type": "code",
   "execution_count": 172,
   "metadata": {},
   "outputs": [],
   "source": [
    "ihds_ed_array = ihds_ed.columns.tolist()"
   ]
  },
  {
   "cell_type": "code",
   "execution_count": 173,
   "metadata": {},
   "outputs": [
    {
     "data": {
      "text/plain": [
       "Text(0.5, 1, 'Education Features Heatmap')"
      ]
     },
     "execution_count": 173,
     "metadata": {},
     "output_type": "execute_result"
    },
    {
     "data": {
      "image/png": "[encoded data removed]",
      "text/plain": [
       "<Figure size 432x288 with 2 Axes>"
      ]
     },
     "metadata": {
      "needs_background": "light"
     },
     "output_type": "display_data"
    }
   ],
   "source": [
    "corr_ihds_ed = ihds_ed.corr()\n",
    "corr_ihds_ed = corr_ihds_ed.where(np.tril(np.ones(corr_ihds_ed.shape)).astype(np.bool))\n",
    "sns.heatmap(corr_ihds_ed, vmin=-1, vmax=1, annot=True)\n",
    "plt.title(\"Education Features Heatmap\")"
   ]
  },
  {
   "cell_type": "markdown",
   "metadata": {},
   "source": [
    "### 4. Occupation"
   ]
  },
  {
   "cell_type": "markdown",
   "metadata": {},
   "source": [
    "Note: TAG does not have occupation data.\n"
   ]
  },
  {
   "cell_type": "markdown",
   "metadata": {},
   "source": [
    "## Income: Response Variable"
   ]
  },
  {
   "cell_type": "code",
   "execution_count": 174,
   "metadata": {},
   "outputs": [],
   "source": [
    "hh_income = ihds['income']"
   ]
  },
  {
   "cell_type": "code",
   "execution_count": 175,
   "metadata": {},
   "outputs": [
    {
     "name": "stdout",
     "output_type": "stream",
     "text": [
      "Income Count: 42152\n",
      "Income Mean: 127759.76773232884\n",
      "Income Std: 216673.37350338502\n",
      "Income Min: -1037040.0\n",
      "Income 25 Percentile: 39000.0\n",
      "Income 50 Percentile: 73500.0\n",
      "Income 75 Percentile: 144000.0\n",
      "Income Max: 11360000.0\n"
     ]
    }
   ],
   "source": [
    "print(\"Income Count: \" + str(hh_income.count()))\n",
    "print(\"Income Mean: \" + str(hh_income.mean()))\n",
    "print(\"Income Std: \" + str(hh_income.std()))\n",
    "print(\"Income Min: \"+ str(hh_income.min()))\n",
    "print(\"Income 25 Percentile: \" + str(np.percentile(hh_income, 25)))\n",
    "print(\"Income 50 Percentile: \" + str(np.percentile(hh_income, 50)))\n",
    "print(\"Income 75 Percentile: \" + str(np.percentile(hh_income, 75)))\n",
    "print(\"Income Max: \" + str(hh_income.max()))"
   ]
  },
  {
   "cell_type": "code",
   "execution_count": 176,
   "metadata": {
    "scrolled": true
   },
   "outputs": [],
   "source": [
    "hh_income_percentiles = pd.qcut(hh_income, 100, labels=np.arange(1, 101))\n",
    "hh_income_deciles = pd.qcut(hh_income, 10, labels=np.arange(1, 11))\n",
    "hh_income_quartiles = pd.qcut(hh_income, 4, labels = np.arange(1, 5))"
   ]
  },
  {
   "cell_type": "code",
   "execution_count": 177,
   "metadata": {},
   "outputs": [
    {
     "data": {
      "text/plain": [
       "127759.76773232884"
      ]
     },
     "execution_count": 177,
     "metadata": {},
     "output_type": "execute_result"
    }
   ],
   "source": [
    "ihds['income'].mean()"
   ]
  },
  {
   "cell_type": "code",
   "execution_count": 178,
   "metadata": {},
   "outputs": [],
   "source": [
    "mean_per_percentile = pd.DataFrame(data={\"Income\": hh_income, \"Income Percentiles\": hh_income_percentiles}).groupby(\"Income Percentiles\").mean()"
   ]
  },
  {
   "cell_type": "code",
   "execution_count": 179,
   "metadata": {
    "scrolled": true
   },
   "outputs": [
    {
     "data": {
      "text/plain": [
       "Text(0.5, 1.0, 'Mean Yearly Income for Every Percentile from IHDS (2012) survey')"
      ]
     },
     "execution_count": 179,
     "metadata": {},
     "output_type": "execute_result"
    },
    {
     "data": {
      "image/png": "[encoded data removed]",
      "text/plain": [
       "<Figure size 432x288 with 1 Axes>"
      ]
     },
     "metadata": {
      "needs_background": "light"
     },
     "output_type": "display_data"
    }
   ],
   "source": [
    "#fig = plt.figure(figsize=(5,5))\n",
    "sns.lineplot(x=np.arange(1, 101), y=mean_per_percentile[\"Income\"])\n",
    "plt.xlabel(\"Income Percentile\")\n",
    "plt.ylabel(\"Mean Yearly Income in 2012 (Rs.)\")\n",
    "plt.title(\"Mean Yearly Income for Every Percentile from IHDS (2012) survey\") # You could improve that"
   ]
  },
  {
   "cell_type": "markdown",
   "metadata": {},
   "source": [
    "## Inference methods"
   ]
  },
  {
   "cell_type": "code",
   "execution_count": 180,
   "metadata": {},
   "outputs": [],
   "source": [
    "ihds_features = pd.concat([ihds_assets, ihds_demo, ihds_ed], axis=1)"
   ]
  },
  {
   "cell_type": "code",
   "execution_count": 181,
   "metadata": {},
   "outputs": [],
   "source": [
    "ihds_features['Income Quartiles'] = hh_income_quartiles\n",
    "ihds_features['Income Deciles'] = hh_income_deciles\n",
    "ihds_features['Income Percentiles'] = hh_income_percentiles\n",
    "ihds_features['Income'] = ihds['income']"
   ]
  },
  {
   "cell_type": "code",
   "execution_count": 182,
   "metadata": {},
   "outputs": [],
   "source": [
    "ihds_features.dropna(inplace=True)"
   ]
  },
  {
   "cell_type": "code",
   "execution_count": 183,
   "metadata": {},
   "outputs": [],
   "source": [
    "ihds_train, ihds_test = train_test_split(ihds_features, test_size=0.25, random_state=42)"
   ]
  },
  {
   "cell_type": "code",
   "execution_count": 184,
   "metadata": {},
   "outputs": [],
   "source": [
    "Y_perc_train = ihds_train['Income Percentiles']\n",
    "Y_dec_train = ihds_train['Income Deciles']\n",
    "Y_quar_train = ihds_train['Income Quartiles']\n",
    "Y_train = ihds_train['Income']\n",
    "X_train = ihds_train.drop(['Income Percentiles', 'Income', 'Income Deciles', 'Income Quartiles'], axis=1)"
   ]
  },
  {
   "cell_type": "code",
   "execution_count": 185,
   "metadata": {},
   "outputs": [
    {
     "name": "stdout",
     "output_type": "stream",
     "text": [
      "Number of Observations: 28505\n"
     ]
    }
   ],
   "source": [
    "print(\"Number of Observations: \" + str(len(X_train)))"
   ]
  },
  {
   "cell_type": "markdown",
   "metadata": {},
   "source": [
    "## Feature Engineering"
   ]
  },
  {
   "cell_type": "code",
   "execution_count": 186,
   "metadata": {},
   "outputs": [],
   "source": [
    "def percentile_25(x):\n",
    "    return np.percentile(x, 25)"
   ]
  },
  {
   "cell_type": "code",
   "execution_count": 187,
   "metadata": {},
   "outputs": [],
   "source": [
    "def t_stat(x):\n",
    "    if np.std(x) > 0:\n",
    "        return np.mean(x) / np.std(x)"
   ]
  },
  {
   "cell_type": "markdown",
   "metadata": {},
   "source": [
    "### Household Assets"
   ]
  },
  {
   "cell_type": "markdown",
   "metadata": {},
   "source": [
    "Read the Following Paper: https://www-jstor-org.libproxy.berkeley.edu/stable/pdf/10.1086/671423.pdf"
   ]
  },
  {
   "cell_type": "markdown",
   "metadata": {},
   "source": [
    "#### Additional Features that we can add: <br>\n",
    "**[a]** Number of Household Assets Available <br>\n",
    "**[b]** Weighted Score depending on Qualitative Analysis of Household Assets"
   ]
  },
  {
   "cell_type": "code",
   "execution_count": 188,
   "metadata": {
    "scrolled": true
   },
   "outputs": [
    {
     "data": {
      "text/html": [
       "<div>\n",
       "<style scoped>\n",
       "    .dataframe tbody tr th:only-of-type {\n",
       "        vertical-align: middle;\n",
       "    }\n",
       "\n",
       "    .dataframe tbody tr th {\n",
       "        vertical-align: top;\n",
       "    }\n",
       "\n",
       "    .dataframe thead th {\n",
       "        text-align: right;\n",
       "    }\n",
       "</style>\n",
       "<table border=\"1\" class=\"dataframe\">\n",
       "  <thead>\n",
       "    <tr style=\"text-align: right;\">\n",
       "      <th></th>\n",
       "      <th>State</th>\n",
       "      <th>Urban/Rural</th>\n",
       "      <th>Religion</th>\n",
       "      <th>Caste</th>\n",
       "    </tr>\n",
       "  </thead>\n",
       "  <tbody>\n",
       "    <tr>\n",
       "      <th>28204</th>\n",
       "      <td>Gujarat 24</td>\n",
       "      <td>rural 0</td>\n",
       "      <td>Hindu 1</td>\n",
       "      <td>Forward/General (except Brahmin) 2</td>\n",
       "    </tr>\n",
       "    <tr>\n",
       "      <th>11626</th>\n",
       "      <td>Uttar Pradesh 09</td>\n",
       "      <td>rural 0</td>\n",
       "      <td>Hindu 1</td>\n",
       "      <td>Scheduled Castes (SC) 4</td>\n",
       "    </tr>\n",
       "    <tr>\n",
       "      <th>29616</th>\n",
       "      <td>Maharashtra 27</td>\n",
       "      <td>urban 1</td>\n",
       "      <td>Hindu 1</td>\n",
       "      <td>Other Backward Castes (OBC) 3</td>\n",
       "    </tr>\n",
       "    <tr>\n",
       "      <th>14852</th>\n",
       "      <td>Bihar 10</td>\n",
       "      <td>urban 1</td>\n",
       "      <td>Hindu 1</td>\n",
       "      <td>Other Backward Castes (OBC) 3</td>\n",
       "    </tr>\n",
       "    <tr>\n",
       "      <th>950</th>\n",
       "      <td>Himachal Pradesh 02</td>\n",
       "      <td>rural 0</td>\n",
       "      <td>Hindu 1</td>\n",
       "      <td>Forward/General (except Brahmin) 2</td>\n",
       "    </tr>\n",
       "    <tr>\n",
       "      <th>...</th>\n",
       "      <td>...</td>\n",
       "      <td>...</td>\n",
       "      <td>...</td>\n",
       "      <td>...</td>\n",
       "    </tr>\n",
       "    <tr>\n",
       "      <th>18846</th>\n",
       "      <td>West Bengal 19</td>\n",
       "      <td>urban 1</td>\n",
       "      <td>Hindu 1</td>\n",
       "      <td>Scheduled Castes (SC) 4</td>\n",
       "    </tr>\n",
       "    <tr>\n",
       "      <th>6953</th>\n",
       "      <td>Delhi 07</td>\n",
       "      <td>urban 1</td>\n",
       "      <td>Hindu 1</td>\n",
       "      <td>Other Backward Castes (OBC) 3</td>\n",
       "    </tr>\n",
       "    <tr>\n",
       "      <th>12552</th>\n",
       "      <td>Uttar Pradesh 09</td>\n",
       "      <td>rural 0</td>\n",
       "      <td>Hindu 1</td>\n",
       "      <td>Other Backward Castes (OBC) 3</td>\n",
       "    </tr>\n",
       "    <tr>\n",
       "      <th>988</th>\n",
       "      <td>Himachal Pradesh 02</td>\n",
       "      <td>rural 0</td>\n",
       "      <td>Hindu 1</td>\n",
       "      <td>Brahmin 1</td>\n",
       "    </tr>\n",
       "    <tr>\n",
       "      <th>17690</th>\n",
       "      <td>West Bengal 19</td>\n",
       "      <td>rural 0</td>\n",
       "      <td>Muslim 2</td>\n",
       "      <td>Forward/General (except Brahmin) 2</td>\n",
       "    </tr>\n",
       "  </tbody>\n",
       "</table>\n",
       "<p>28505 rows × 4 columns</p>\n",
       "</div>"
      ],
      "text/plain": [
       "                     State Urban/Rural  Religion  \\\n",
       "28204           Gujarat 24     rural 0   Hindu 1   \n",
       "11626     Uttar Pradesh 09     rural 0   Hindu 1   \n",
       "29616       Maharashtra 27     urban 1   Hindu 1   \n",
       "14852             Bihar 10     urban 1   Hindu 1   \n",
       "950    Himachal Pradesh 02     rural 0   Hindu 1   \n",
       "...                    ...         ...       ...   \n",
       "18846       West Bengal 19     urban 1   Hindu 1   \n",
       "6953              Delhi 07     urban 1   Hindu 1   \n",
       "12552     Uttar Pradesh 09     rural 0   Hindu 1   \n",
       "988    Himachal Pradesh 02     rural 0   Hindu 1   \n",
       "17690       West Bengal 19     rural 0  Muslim 2   \n",
       "\n",
       "                                    Caste  \n",
       "28204  Forward/General (except Brahmin) 2  \n",
       "11626             Scheduled Castes (SC) 4  \n",
       "29616       Other Backward Castes (OBC) 3  \n",
       "14852       Other Backward Castes (OBC) 3  \n",
       "950    Forward/General (except Brahmin) 2  \n",
       "...                                   ...  \n",
       "18846             Scheduled Castes (SC) 4  \n",
       "6953        Other Backward Castes (OBC) 3  \n",
       "12552       Other Backward Castes (OBC) 3  \n",
       "988                             Brahmin 1  \n",
       "17690  Forward/General (except Brahmin) 2  \n",
       "\n",
       "[28505 rows x 4 columns]"
      ]
     },
     "execution_count": 188,
     "metadata": {},
     "output_type": "execute_result"
    }
   ],
   "source": [
    "X_train[ihds_demo_array]"
   ]
  },
  {
   "cell_type": "code",
   "execution_count": 189,
   "metadata": {},
   "outputs": [],
   "source": [
    "ihds_relevant_assets = copy.deepcopy(ihds_asset_array)"
   ]
  },
  {
   "cell_type": "code",
   "execution_count": 190,
   "metadata": {},
   "outputs": [],
   "source": [
    "ihds_asset_array.append(\"Income Deciles\")"
   ]
  },
  {
   "cell_type": "code",
   "execution_count": 191,
   "metadata": {},
   "outputs": [],
   "source": [
    "ihds_train_assets = ihds_train[ihds_asset_array]"
   ]
  },
  {
   "cell_type": "code",
   "execution_count": 192,
   "metadata": {},
   "outputs": [],
   "source": [
    "ihds_asset_array.remove(\"Income Deciles\")"
   ]
  },
  {
   "cell_type": "markdown",
   "metadata": {},
   "source": [
    "Does the monotonicity assumption hold?"
   ]
  },
  {
   "cell_type": "code",
   "execution_count": 193,
   "metadata": {
    "scrolled": true
   },
   "outputs": [],
   "source": [
    "X_train['num_assets'] = X_train[ihds_relevant_assets].sum(axis=1)"
   ]
  },
  {
   "cell_type": "code",
   "execution_count": 194,
   "metadata": {},
   "outputs": [],
   "source": [
    "ihds_asset_response = copy.deepcopy(ihds_train_assets)"
   ]
  },
  {
   "cell_type": "code",
   "execution_count": 195,
   "metadata": {
    "scrolled": true
   },
   "outputs": [],
   "source": [
    "ihds_summary = ihds_asset_response.groupby('Income Deciles').agg(lambda x: sum(x)/len(x))"
   ]
  },
  {
   "cell_type": "code",
   "execution_count": 196,
   "metadata": {},
   "outputs": [],
   "source": [
    "def wealth_score(row):\n",
    "    return np.sum(np.multiply(np.array(row[ihds_asset_array]), asset_weight_array))"
   ]
  },
  {
   "cell_type": "code",
   "execution_count": 197,
   "metadata": {},
   "outputs": [],
   "source": [
    "ihds_asset_response['Y_dec'] = Y_dec_train"
   ]
  },
  {
   "cell_type": "code",
   "execution_count": 198,
   "metadata": {},
   "outputs": [
    {
     "data": {
      "text/plain": [
       "array([0.08776646, 0.22101575, 0.13561501, 0.15113454, 0.00612324,\n",
       "       0.21670621, 0.13313747, 0.13362294, 0.08157036, 0.10093447,\n",
       "       0.22908899, 0.13681022, 0.12376127, 0.1003885 , 0.02587671,\n",
       "       0.2027478 , 0.07509825])"
      ]
     },
     "execution_count": 198,
     "metadata": {},
     "output_type": "execute_result"
    }
   ],
   "source": [
    "asset_weight_array = np.array(np.std(ihds_summary))\n",
    "asset_weight_array"
   ]
  },
  {
   "cell_type": "code",
   "execution_count": 199,
   "metadata": {},
   "outputs": [],
   "source": [
    "X_train['wealth score'] = X_train[ihds_asset_array].apply(wealth_score, axis=1)"
   ]
  },
  {
   "cell_type": "markdown",
   "metadata": {},
   "source": [
    "### Education"
   ]
  },
  {
   "cell_type": "code",
   "execution_count": 200,
   "metadata": {},
   "outputs": [],
   "source": [
    "education_plots = copy.deepcopy(X_train[ihds_ed_array])"
   ]
  },
  {
   "cell_type": "code",
   "execution_count": 201,
   "metadata": {},
   "outputs": [],
   "source": [
    "education_plots['Income'] = Y_train\n",
    "education_plots['Income Percentiles'] = pd.to_numeric(Y_perc_train)                                      "
   ]
  },
  {
   "cell_type": "code",
   "execution_count": 202,
   "metadata": {},
   "outputs": [
    {
     "data": {
      "text/plain": [
       "<pandas.core.groupby.generic.DataFrameGroupBy object at 0x1a27055d50>"
      ]
     },
     "execution_count": 202,
     "metadata": {},
     "output_type": "execute_result"
    }
   ],
   "source": [
    "education_plots.groupby(\"Highest Male Education\")"
   ]
  },
  {
   "cell_type": "code",
   "execution_count": 203,
   "metadata": {
    "scrolled": true
   },
   "outputs": [
    {
     "data": {
      "text/html": [
       "<div>\n",
       "<style scoped>\n",
       "    .dataframe tbody tr th:only-of-type {\n",
       "        vertical-align: middle;\n",
       "    }\n",
       "\n",
       "    .dataframe tbody tr th {\n",
       "        vertical-align: top;\n",
       "    }\n",
       "\n",
       "    .dataframe thead tr th {\n",
       "        text-align: left;\n",
       "    }\n",
       "\n",
       "    .dataframe thead tr:last-of-type th {\n",
       "        text-align: right;\n",
       "    }\n",
       "</style>\n",
       "<table border=\"1\" class=\"dataframe\">\n",
       "  <thead>\n",
       "    <tr>\n",
       "      <th></th>\n",
       "      <th></th>\n",
       "      <th></th>\n",
       "      <th colspan=\"5\" halign=\"left\">Income</th>\n",
       "      <th colspan=\"5\" halign=\"left\">Income Percentiles</th>\n",
       "    </tr>\n",
       "    <tr>\n",
       "      <th></th>\n",
       "      <th></th>\n",
       "      <th></th>\n",
       "      <th>mean</th>\n",
       "      <th>std</th>\n",
       "      <th>len</th>\n",
       "      <th>percentile_25</th>\n",
       "      <th>t_stat</th>\n",
       "      <th>mean</th>\n",
       "      <th>std</th>\n",
       "      <th>len</th>\n",
       "      <th>percentile_25</th>\n",
       "      <th>t_stat</th>\n",
       "    </tr>\n",
       "    <tr>\n",
       "      <th>Highest Male Education</th>\n",
       "      <th>Highest Female Education</th>\n",
       "      <th>Highest Adult Education</th>\n",
       "      <th></th>\n",
       "      <th></th>\n",
       "      <th></th>\n",
       "      <th></th>\n",
       "      <th></th>\n",
       "      <th></th>\n",
       "      <th></th>\n",
       "      <th></th>\n",
       "      <th></th>\n",
       "      <th></th>\n",
       "    </tr>\n",
       "  </thead>\n",
       "  <tbody>\n",
       "    <tr>\n",
       "      <th rowspan=\"5\" valign=\"top\">0.0</th>\n",
       "      <th>0.0</th>\n",
       "      <th>0.0</th>\n",
       "      <td>60728.366395</td>\n",
       "      <td>80847.095124</td>\n",
       "      <td>3931.0</td>\n",
       "      <td>26127.0</td>\n",
       "      <td>0.751246</td>\n",
       "      <td>34.496820</td>\n",
       "      <td>23.030352</td>\n",
       "      <td>3931</td>\n",
       "      <td>15.00</td>\n",
       "      <td>1.498076</td>\n",
       "    </tr>\n",
       "    <tr>\n",
       "      <th>1.0</th>\n",
       "      <th>1.0</th>\n",
       "      <td>53735.894737</td>\n",
       "      <td>37437.132706</td>\n",
       "      <td>19.0</td>\n",
       "      <td>23470.0</td>\n",
       "      <td>1.474696</td>\n",
       "      <td>34.105263</td>\n",
       "      <td>23.098568</td>\n",
       "      <td>19</td>\n",
       "      <td>13.00</td>\n",
       "      <td>1.516970</td>\n",
       "    </tr>\n",
       "    <tr>\n",
       "      <th>2.0</th>\n",
       "      <th>2.0</th>\n",
       "      <td>59437.759259</td>\n",
       "      <td>30767.160604</td>\n",
       "      <td>54.0</td>\n",
       "      <td>38200.0</td>\n",
       "      <td>1.949997</td>\n",
       "      <td>38.351852</td>\n",
       "      <td>18.104682</td>\n",
       "      <td>54</td>\n",
       "      <td>24.50</td>\n",
       "      <td>2.138230</td>\n",
       "    </tr>\n",
       "    <tr>\n",
       "      <th>3.0</th>\n",
       "      <th>3.0</th>\n",
       "      <td>56208.956522</td>\n",
       "      <td>38803.952929</td>\n",
       "      <td>69.0</td>\n",
       "      <td>39590.0</td>\n",
       "      <td>1.459149</td>\n",
       "      <td>36.971014</td>\n",
       "      <td>19.021637</td>\n",
       "      <td>69</td>\n",
       "      <td>26.00</td>\n",
       "      <td>1.957869</td>\n",
       "    </tr>\n",
       "    <tr>\n",
       "      <th>4.0</th>\n",
       "      <th>4.0</th>\n",
       "      <td>59603.513274</td>\n",
       "      <td>59918.946177</td>\n",
       "      <td>113.0</td>\n",
       "      <td>27000.0</td>\n",
       "      <td>0.999167</td>\n",
       "      <td>34.238938</td>\n",
       "      <td>22.511217</td>\n",
       "      <td>113</td>\n",
       "      <td>16.00</td>\n",
       "      <td>1.527747</td>\n",
       "    </tr>\n",
       "    <tr>\n",
       "      <th>...</th>\n",
       "      <th>...</th>\n",
       "      <th>...</th>\n",
       "      <td>...</td>\n",
       "      <td>...</td>\n",
       "      <td>...</td>\n",
       "      <td>...</td>\n",
       "      <td>...</td>\n",
       "      <td>...</td>\n",
       "      <td>...</td>\n",
       "      <td>...</td>\n",
       "      <td>...</td>\n",
       "      <td>...</td>\n",
       "    </tr>\n",
       "    <tr>\n",
       "      <th rowspan=\"5\" valign=\"top\">16.0</th>\n",
       "      <th>12.0</th>\n",
       "      <th>16.0</th>\n",
       "      <td>287266.581522</td>\n",
       "      <td>236942.415296</td>\n",
       "      <td>184.0</td>\n",
       "      <td>127375.0</td>\n",
       "      <td>1.215698</td>\n",
       "      <td>77.418478</td>\n",
       "      <td>24.145820</td>\n",
       "      <td>184</td>\n",
       "      <td>71.75</td>\n",
       "      <td>3.215037</td>\n",
       "    </tr>\n",
       "    <tr>\n",
       "      <th>13.0</th>\n",
       "      <th>16.0</th>\n",
       "      <td>214600.615385</td>\n",
       "      <td>88857.699034</td>\n",
       "      <td>13.0</td>\n",
       "      <td>152000.0</td>\n",
       "      <td>2.513720</td>\n",
       "      <td>80.230769</td>\n",
       "      <td>17.931136</td>\n",
       "      <td>13</td>\n",
       "      <td>77.00</td>\n",
       "      <td>4.657085</td>\n",
       "    </tr>\n",
       "    <tr>\n",
       "      <th>14.0</th>\n",
       "      <th>16.0</th>\n",
       "      <td>244800.545455</td>\n",
       "      <td>147637.117148</td>\n",
       "      <td>33.0</td>\n",
       "      <td>144000.0</td>\n",
       "      <td>1.683832</td>\n",
       "      <td>78.424242</td>\n",
       "      <td>21.685292</td>\n",
       "      <td>33</td>\n",
       "      <td>75.00</td>\n",
       "      <td>3.672544</td>\n",
       "    </tr>\n",
       "    <tr>\n",
       "      <th>15.0</th>\n",
       "      <th>16.0</th>\n",
       "      <td>344507.733660</td>\n",
       "      <td>314259.261515</td>\n",
       "      <td>306.0</td>\n",
       "      <td>144330.5</td>\n",
       "      <td>1.098049</td>\n",
       "      <td>81.032680</td>\n",
       "      <td>22.736673</td>\n",
       "      <td>306</td>\n",
       "      <td>75.25</td>\n",
       "      <td>3.569802</td>\n",
       "    </tr>\n",
       "    <tr>\n",
       "      <th>16.0</th>\n",
       "      <th>16.0</th>\n",
       "      <td>507870.818859</td>\n",
       "      <td>470858.160949</td>\n",
       "      <td>403.0</td>\n",
       "      <td>188900.0</td>\n",
       "      <td>1.079948</td>\n",
       "      <td>87.054591</td>\n",
       "      <td>19.250302</td>\n",
       "      <td>403</td>\n",
       "      <td>83.00</td>\n",
       "      <td>4.527867</td>\n",
       "    </tr>\n",
       "  </tbody>\n",
       "</table>\n",
       "<p>277 rows × 10 columns</p>\n",
       "</div>"
      ],
      "text/plain": [
       "                                                                                Income  \\\n",
       "                                                                                  mean   \n",
       "Highest Male Education Highest Female Education Highest Adult Education                  \n",
       "0.0                    0.0                      0.0                       60728.366395   \n",
       "                       1.0                      1.0                       53735.894737   \n",
       "                       2.0                      2.0                       59437.759259   \n",
       "                       3.0                      3.0                       56208.956522   \n",
       "                       4.0                      4.0                       59603.513274   \n",
       "...                                                                                ...   \n",
       "16.0                   12.0                     16.0                     287266.581522   \n",
       "                       13.0                     16.0                     214600.615385   \n",
       "                       14.0                     16.0                     244800.545455   \n",
       "                       15.0                     16.0                     344507.733660   \n",
       "                       16.0                     16.0                     507870.818859   \n",
       "\n",
       "                                                                                        \\\n",
       "                                                                                   std   \n",
       "Highest Male Education Highest Female Education Highest Adult Education                  \n",
       "0.0                    0.0                      0.0                       80847.095124   \n",
       "                       1.0                      1.0                       37437.132706   \n",
       "                       2.0                      2.0                       30767.160604   \n",
       "                       3.0                      3.0                       38803.952929   \n",
       "                       4.0                      4.0                       59918.946177   \n",
       "...                                                                                ...   \n",
       "16.0                   12.0                     16.0                     236942.415296   \n",
       "                       13.0                     16.0                      88857.699034   \n",
       "                       14.0                     16.0                     147637.117148   \n",
       "                       15.0                     16.0                     314259.261515   \n",
       "                       16.0                     16.0                     470858.160949   \n",
       "\n",
       "                                                                                 \\\n",
       "                                                                            len   \n",
       "Highest Male Education Highest Female Education Highest Adult Education           \n",
       "0.0                    0.0                      0.0                      3931.0   \n",
       "                       1.0                      1.0                        19.0   \n",
       "                       2.0                      2.0                        54.0   \n",
       "                       3.0                      3.0                        69.0   \n",
       "                       4.0                      4.0                       113.0   \n",
       "...                                                                         ...   \n",
       "16.0                   12.0                     16.0                      184.0   \n",
       "                       13.0                     16.0                       13.0   \n",
       "                       14.0                     16.0                       33.0   \n",
       "                       15.0                     16.0                      306.0   \n",
       "                       16.0                     16.0                      403.0   \n",
       "\n",
       "                                                                                       \\\n",
       "                                                                        percentile_25   \n",
       "Highest Male Education Highest Female Education Highest Adult Education                 \n",
       "0.0                    0.0                      0.0                           26127.0   \n",
       "                       1.0                      1.0                           23470.0   \n",
       "                       2.0                      2.0                           38200.0   \n",
       "                       3.0                      3.0                           39590.0   \n",
       "                       4.0                      4.0                           27000.0   \n",
       "...                                                                               ...   \n",
       "16.0                   12.0                     16.0                         127375.0   \n",
       "                       13.0                     16.0                         152000.0   \n",
       "                       14.0                     16.0                         144000.0   \n",
       "                       15.0                     16.0                         144330.5   \n",
       "                       16.0                     16.0                         188900.0   \n",
       "\n",
       "                                                                                   \\\n",
       "                                                                           t_stat   \n",
       "Highest Male Education Highest Female Education Highest Adult Education             \n",
       "0.0                    0.0                      0.0                      0.751246   \n",
       "                       1.0                      1.0                      1.474696   \n",
       "                       2.0                      2.0                      1.949997   \n",
       "                       3.0                      3.0                      1.459149   \n",
       "                       4.0                      4.0                      0.999167   \n",
       "...                                                                           ...   \n",
       "16.0                   12.0                     16.0                     1.215698   \n",
       "                       13.0                     16.0                     2.513720   \n",
       "                       14.0                     16.0                     1.683832   \n",
       "                       15.0                     16.0                     1.098049   \n",
       "                       16.0                     16.0                     1.079948   \n",
       "\n",
       "                                                                        Income Percentiles  \\\n",
       "                                                                                      mean   \n",
       "Highest Male Education Highest Female Education Highest Adult Education                      \n",
       "0.0                    0.0                      0.0                              34.496820   \n",
       "                       1.0                      1.0                              34.105263   \n",
       "                       2.0                      2.0                              38.351852   \n",
       "                       3.0                      3.0                              36.971014   \n",
       "                       4.0                      4.0                              34.238938   \n",
       "...                                                                                    ...   \n",
       "16.0                   12.0                     16.0                             77.418478   \n",
       "                       13.0                     16.0                             80.230769   \n",
       "                       14.0                     16.0                             78.424242   \n",
       "                       15.0                     16.0                             81.032680   \n",
       "                       16.0                     16.0                             87.054591   \n",
       "\n",
       "                                                                                    \\\n",
       "                                                                               std   \n",
       "Highest Male Education Highest Female Education Highest Adult Education              \n",
       "0.0                    0.0                      0.0                      23.030352   \n",
       "                       1.0                      1.0                      23.098568   \n",
       "                       2.0                      2.0                      18.104682   \n",
       "                       3.0                      3.0                      19.021637   \n",
       "                       4.0                      4.0                      22.511217   \n",
       "...                                                                            ...   \n",
       "16.0                   12.0                     16.0                     24.145820   \n",
       "                       13.0                     16.0                     17.931136   \n",
       "                       14.0                     16.0                     21.685292   \n",
       "                       15.0                     16.0                     22.736673   \n",
       "                       16.0                     16.0                     19.250302   \n",
       "\n",
       "                                                                               \\\n",
       "                                                                          len   \n",
       "Highest Male Education Highest Female Education Highest Adult Education         \n",
       "0.0                    0.0                      0.0                      3931   \n",
       "                       1.0                      1.0                        19   \n",
       "                       2.0                      2.0                        54   \n",
       "                       3.0                      3.0                        69   \n",
       "                       4.0                      4.0                       113   \n",
       "...                                                                       ...   \n",
       "16.0                   12.0                     16.0                      184   \n",
       "                       13.0                     16.0                       13   \n",
       "                       14.0                     16.0                       33   \n",
       "                       15.0                     16.0                      306   \n",
       "                       16.0                     16.0                      403   \n",
       "\n",
       "                                                                                       \\\n",
       "                                                                        percentile_25   \n",
       "Highest Male Education Highest Female Education Highest Adult Education                 \n",
       "0.0                    0.0                      0.0                             15.00   \n",
       "                       1.0                      1.0                             13.00   \n",
       "                       2.0                      2.0                             24.50   \n",
       "                       3.0                      3.0                             26.00   \n",
       "                       4.0                      4.0                             16.00   \n",
       "...                                                                               ...   \n",
       "16.0                   12.0                     16.0                            71.75   \n",
       "                       13.0                     16.0                            77.00   \n",
       "                       14.0                     16.0                            75.00   \n",
       "                       15.0                     16.0                            75.25   \n",
       "                       16.0                     16.0                            83.00   \n",
       "\n",
       "                                                                                   \n",
       "                                                                           t_stat  \n",
       "Highest Male Education Highest Female Education Highest Adult Education            \n",
       "0.0                    0.0                      0.0                      1.498076  \n",
       "                       1.0                      1.0                      1.516970  \n",
       "                       2.0                      2.0                      2.138230  \n",
       "                       3.0                      3.0                      1.957869  \n",
       "                       4.0                      4.0                      1.527747  \n",
       "...                                                                           ...  \n",
       "16.0                   12.0                     16.0                     3.215037  \n",
       "                       13.0                     16.0                     4.657085  \n",
       "                       14.0                     16.0                     3.672544  \n",
       "                       15.0                     16.0                     3.569802  \n",
       "                       16.0                     16.0                     4.527867  \n",
       "\n",
       "[277 rows x 10 columns]"
      ]
     },
     "execution_count": 203,
     "metadata": {},
     "output_type": "execute_result"
    }
   ],
   "source": [
    "education_plots.groupby(ihds_ed_array) \\\n",
    ".agg([np.mean, np.std, len, percentile_25, t_stat])"
   ]
  },
  {
   "cell_type": "markdown",
   "metadata": {},
   "source": [
    "### Demographics"
   ]
  },
  {
   "cell_type": "code",
   "execution_count": 204,
   "metadata": {},
   "outputs": [],
   "source": [
    "demographic_plots = X_train[ihds_demo_array]"
   ]
  },
  {
   "cell_type": "code",
   "execution_count": 205,
   "metadata": {},
   "outputs": [
    {
     "name": "stderr",
     "output_type": "stream",
     "text": [
      "/Users/vatsalbajaj/opt/anaconda3/lib/python3.7/site-packages/ipykernel_launcher.py:1: SettingWithCopyWarning: \n",
      "A value is trying to be set on a copy of a slice from a DataFrame.\n",
      "Try using .loc[row_indexer,col_indexer] = value instead\n",
      "\n",
      "See the caveats in the documentation: https://pandas.pydata.org/pandas-docs/stable/user_guide/indexing.html#returning-a-view-versus-a-copy\n",
      "  \"\"\"Entry point for launching an IPython kernel.\n"
     ]
    }
   ],
   "source": [
    "demographic_plots['Income Percentiles'] = pd.to_numeric(Y_perc_train)"
   ]
  },
  {
   "cell_type": "code",
   "execution_count": 206,
   "metadata": {},
   "outputs": [
    {
     "data": {
      "text/html": [
       "<div>\n",
       "<style scoped>\n",
       "    .dataframe tbody tr th:only-of-type {\n",
       "        vertical-align: middle;\n",
       "    }\n",
       "\n",
       "    .dataframe tbody tr th {\n",
       "        vertical-align: top;\n",
       "    }\n",
       "\n",
       "    .dataframe thead tr th {\n",
       "        text-align: left;\n",
       "    }\n",
       "\n",
       "    .dataframe thead tr:last-of-type th {\n",
       "        text-align: right;\n",
       "    }\n",
       "</style>\n",
       "<table border=\"1\" class=\"dataframe\">\n",
       "  <thead>\n",
       "    <tr>\n",
       "      <th></th>\n",
       "      <th></th>\n",
       "      <th></th>\n",
       "      <th colspan=\"3\" halign=\"left\">Income Percentiles</th>\n",
       "    </tr>\n",
       "    <tr>\n",
       "      <th></th>\n",
       "      <th></th>\n",
       "      <th></th>\n",
       "      <th>mean</th>\n",
       "      <th>std</th>\n",
       "      <th>len</th>\n",
       "    </tr>\n",
       "    <tr>\n",
       "      <th>Urban/Rural</th>\n",
       "      <th>Religion</th>\n",
       "      <th>Caste</th>\n",
       "      <th></th>\n",
       "      <th></th>\n",
       "      <th></th>\n",
       "    </tr>\n",
       "  </thead>\n",
       "  <tbody>\n",
       "    <tr>\n",
       "      <th rowspan=\"5\" valign=\"top\">rural 0</th>\n",
       "      <th rowspan=\"5\" valign=\"top\">Hindu 1</th>\n",
       "      <th>Brahmin 1</th>\n",
       "      <td>52.496741</td>\n",
       "      <td>30.004563</td>\n",
       "      <td>767.0</td>\n",
       "    </tr>\n",
       "    <tr>\n",
       "      <th>Forward/General (except Brahmin) 2</th>\n",
       "      <td>54.151104</td>\n",
       "      <td>29.577418</td>\n",
       "      <td>2581.0</td>\n",
       "    </tr>\n",
       "    <tr>\n",
       "      <th>Other Backward Castes (OBC) 3</th>\n",
       "      <td>43.431794</td>\n",
       "      <td>27.617728</td>\n",
       "      <td>6473.0</td>\n",
       "    </tr>\n",
       "    <tr>\n",
       "      <th>Scheduled Castes (SC) 4</th>\n",
       "      <td>42.326903</td>\n",
       "      <td>24.803089</td>\n",
       "      <td>3836.0</td>\n",
       "    </tr>\n",
       "    <tr>\n",
       "      <th>Scheduled Tribes (ST) 5</th>\n",
       "      <td>33.856800</td>\n",
       "      <td>24.151708</td>\n",
       "      <td>1669.0</td>\n",
       "    </tr>\n",
       "    <tr>\n",
       "      <th>...</th>\n",
       "      <th>...</th>\n",
       "      <th>...</th>\n",
       "      <td>...</td>\n",
       "      <td>...</td>\n",
       "      <td>...</td>\n",
       "    </tr>\n",
       "    <tr>\n",
       "      <th rowspan=\"5\" valign=\"top\">urban 1</th>\n",
       "      <th rowspan=\"5\" valign=\"top\">None 9</th>\n",
       "      <th>Forward/General (except Brahmin) 2</th>\n",
       "      <td>64.000000</td>\n",
       "      <td>NaN</td>\n",
       "      <td>1.0</td>\n",
       "    </tr>\n",
       "    <tr>\n",
       "      <th>Other Backward Castes (OBC) 3</th>\n",
       "      <td>NaN</td>\n",
       "      <td>NaN</td>\n",
       "      <td>NaN</td>\n",
       "    </tr>\n",
       "    <tr>\n",
       "      <th>Scheduled Castes (SC) 4</th>\n",
       "      <td>91.000000</td>\n",
       "      <td>NaN</td>\n",
       "      <td>1.0</td>\n",
       "    </tr>\n",
       "    <tr>\n",
       "      <th>Scheduled Tribes (ST) 5</th>\n",
       "      <td>69.500000</td>\n",
       "      <td>28.629821</td>\n",
       "      <td>4.0</td>\n",
       "    </tr>\n",
       "    <tr>\n",
       "      <th>Others 6</th>\n",
       "      <td>NaN</td>\n",
       "      <td>NaN</td>\n",
       "      <td>NaN</td>\n",
       "    </tr>\n",
       "  </tbody>\n",
       "</table>\n",
       "<p>108 rows × 3 columns</p>\n",
       "</div>"
      ],
      "text/plain": [
       "                                                        Income Percentiles  \\\n",
       "                                                                      mean   \n",
       "Urban/Rural Religion Caste                                                   \n",
       "rural 0     Hindu 1  Brahmin 1                                   52.496741   \n",
       "                     Forward/General (except Brahmin) 2          54.151104   \n",
       "                     Other Backward Castes (OBC) 3               43.431794   \n",
       "                     Scheduled Castes (SC) 4                     42.326903   \n",
       "                     Scheduled Tribes (ST) 5                     33.856800   \n",
       "...                                                                    ...   \n",
       "urban 1     None 9   Forward/General (except Brahmin) 2          64.000000   \n",
       "                     Other Backward Castes (OBC) 3                     NaN   \n",
       "                     Scheduled Castes (SC) 4                     91.000000   \n",
       "                     Scheduled Tribes (ST) 5                     69.500000   \n",
       "                     Others 6                                          NaN   \n",
       "\n",
       "                                                                            \n",
       "                                                               std     len  \n",
       "Urban/Rural Religion Caste                                                  \n",
       "rural 0     Hindu 1  Brahmin 1                           30.004563   767.0  \n",
       "                     Forward/General (except Brahmin) 2  29.577418  2581.0  \n",
       "                     Other Backward Castes (OBC) 3       27.617728  6473.0  \n",
       "                     Scheduled Castes (SC) 4             24.803089  3836.0  \n",
       "                     Scheduled Tribes (ST) 5             24.151708  1669.0  \n",
       "...                                                            ...     ...  \n",
       "urban 1     None 9   Forward/General (except Brahmin) 2        NaN     1.0  \n",
       "                     Other Backward Castes (OBC) 3             NaN     NaN  \n",
       "                     Scheduled Castes (SC) 4                   NaN     1.0  \n",
       "                     Scheduled Tribes (ST) 5             28.629821     4.0  \n",
       "                     Others 6                                  NaN     NaN  \n",
       "\n",
       "[108 rows x 3 columns]"
      ]
     },
     "execution_count": 206,
     "metadata": {},
     "output_type": "execute_result"
    }
   ],
   "source": [
    "demographic_plots[['Urban/Rural', 'Religion', 'Income Percentiles', 'Caste']] \\\n",
    ".groupby([\"Urban/Rural\", 'Religion', 'Caste']).agg([np.mean, np.std, len])"
   ]
  },
  {
   "cell_type": "markdown",
   "metadata": {},
   "source": [
    "## Models"
   ]
  },
  {
   "cell_type": "code",
   "execution_count": 207,
   "metadata": {},
   "outputs": [],
   "source": [
    "def make_scorer(metric):\n",
    "    return lambda model, x, y: metric(y, model.predict(x))"
   ]
  },
  {
   "cell_type": "markdown",
   "metadata": {},
   "source": [
    "### Linear Regression"
   ]
  },
  {
   "cell_type": "code",
   "execution_count": 208,
   "metadata": {},
   "outputs": [],
   "source": [
    "import statsmodels.api as sm"
   ]
  },
  {
   "cell_type": "code",
   "execution_count": 209,
   "metadata": {},
   "outputs": [],
   "source": [
    "def make_linear_scorer(metric):\n",
    "    return lambda model, x, y: metric(y, np.round(model.predict(x)))"
   ]
  },
  {
   "cell_type": "code",
   "execution_count": 212,
   "metadata": {},
   "outputs": [],
   "source": [
    "categorical_transformer = Pipeline(steps=[\n",
    "    ('onehot', OneHotEncoder(handle_unknown='ignore'))])\n",
    "\n",
    "preprocessor = ColumnTransformer(\n",
    "    transformers=[\n",
    "        ('cat', categorical_transformer, ihds_demo_array)\n",
    "    ],\n",
    "        remainder='passthrough'\n",
    "    )\n",
    "\n",
    "\n",
    "pipeline_lr = Pipeline(steps=[\n",
    "    ('preprocessor', preprocessor),\n",
    "    ('model', LinearRegression())\n",
    "])\n"
   ]
  },
  {
   "cell_type": "code",
   "execution_count": 213,
   "metadata": {},
   "outputs": [],
   "source": [
    "X = copy.deepcopy(X_train)\n",
    "X['Y_dec_train'] = Y_dec_train\n",
    "std_errors = X[['Y_dec_train', 'wealth score']].groupby('Y_dec_train').agg(np.std)\n",
    "X = X[['Y_dec_train', 'wealth score']].groupby('Y_dec_train').agg(np.mean)"
   ]
  },
  {
   "cell_type": "code",
   "execution_count": 214,
   "metadata": {},
   "outputs": [
    {
     "data": {
      "text/html": [
       "<div>\n",
       "<style scoped>\n",
       "    .dataframe tbody tr th:only-of-type {\n",
       "        vertical-align: middle;\n",
       "    }\n",
       "\n",
       "    .dataframe tbody tr th {\n",
       "        vertical-align: top;\n",
       "    }\n",
       "\n",
       "    .dataframe thead th {\n",
       "        text-align: right;\n",
       "    }\n",
       "</style>\n",
       "<table border=\"1\" class=\"dataframe\">\n",
       "  <thead>\n",
       "    <tr style=\"text-align: right;\">\n",
       "      <th></th>\n",
       "      <th>wealth score</th>\n",
       "    </tr>\n",
       "    <tr>\n",
       "      <th>Y_dec_train</th>\n",
       "      <th></th>\n",
       "    </tr>\n",
       "  </thead>\n",
       "  <tbody>\n",
       "    <tr>\n",
       "      <th>1</th>\n",
       "      <td>0.474122</td>\n",
       "    </tr>\n",
       "    <tr>\n",
       "      <th>2</th>\n",
       "      <td>0.414096</td>\n",
       "    </tr>\n",
       "    <tr>\n",
       "      <th>3</th>\n",
       "      <td>0.426246</td>\n",
       "    </tr>\n",
       "    <tr>\n",
       "      <th>4</th>\n",
       "      <td>0.425058</td>\n",
       "    </tr>\n",
       "    <tr>\n",
       "      <th>5</th>\n",
       "      <td>0.430603</td>\n",
       "    </tr>\n",
       "    <tr>\n",
       "      <th>6</th>\n",
       "      <td>0.428423</td>\n",
       "    </tr>\n",
       "    <tr>\n",
       "      <th>7</th>\n",
       "      <td>0.427835</td>\n",
       "    </tr>\n",
       "    <tr>\n",
       "      <th>8</th>\n",
       "      <td>0.416613</td>\n",
       "    </tr>\n",
       "    <tr>\n",
       "      <th>9</th>\n",
       "      <td>0.403011</td>\n",
       "    </tr>\n",
       "    <tr>\n",
       "      <th>10</th>\n",
       "      <td>0.353882</td>\n",
       "    </tr>\n",
       "  </tbody>\n",
       "</table>\n",
       "</div>"
      ],
      "text/plain": [
       "             wealth score\n",
       "Y_dec_train              \n",
       "1                0.474122\n",
       "2                0.414096\n",
       "3                0.426246\n",
       "4                0.425058\n",
       "5                0.430603\n",
       "6                0.428423\n",
       "7                0.427835\n",
       "8                0.416613\n",
       "9                0.403011\n",
       "10               0.353882"
      ]
     },
     "execution_count": 214,
     "metadata": {},
     "output_type": "execute_result"
    }
   ],
   "source": [
    "std_errors"
   ]
  },
  {
   "cell_type": "code",
   "execution_count": 215,
   "metadata": {
    "scrolled": true
   },
   "outputs": [
    {
     "data": {
      "text/plain": [
       "Text(0, 0.5, 'Wealth Score')"
      ]
     },
     "execution_count": 215,
     "metadata": {},
     "output_type": "execute_result"
    },
    {
     "data": {
      "image/png": "[encoded data removed]",
      "text/plain": [
       "<Figure size 432x288 with 1 Axes>"
      ]
     },
     "metadata": {
      "needs_background": "light"
     },
     "output_type": "display_data"
    }
   ],
   "source": [
    "plt.bar(X.index.tolist(), X['wealth score'])\n",
    "plt.title(\"Mean Wealth Score for every Income Decile\")\n",
    "plt.xlabel(\"Income Decile\")\n",
    "plt.ylabel(\"Wealth Score\")"
   ]
  },
  {
   "cell_type": "code",
   "execution_count": 216,
   "metadata": {},
   "outputs": [],
   "source": [
    "X_train_ols = X_train.copy(deep=True)"
   ]
  },
  {
   "cell_type": "code",
   "execution_count": 217,
   "metadata": {},
   "outputs": [],
   "source": [
    "append_df_ols = pd.get_dummies(X_train_ols[ihds_demo_array])"
   ]
  },
  {
   "cell_type": "code",
   "execution_count": 218,
   "metadata": {},
   "outputs": [],
   "source": [
    "X_train_ols.drop(ihds_demo_array, inplace=True, axis=1)"
   ]
  },
  {
   "cell_type": "code",
   "execution_count": 219,
   "metadata": {},
   "outputs": [],
   "source": [
    "X_train_ols = pd.concat([X_train_ols, append_df_ols], axis=1)"
   ]
  },
  {
   "cell_type": "code",
   "execution_count": 220,
   "metadata": {},
   "outputs": [],
   "source": [
    "features = ['Highest Adult Education', 'num_assets', 'wealth score',\n",
    "            \"Urban/Rural_rural 0\", 'Chair/Table', 'Color TV', 'Computer/Laptop', 'Refrigerator', 'Car',\n",
    "           \"Caste_Forward/General (except Brahmin) 2\", \"Religion_Muslim 2\"]\n",
    "X_select = copy.deepcopy(X_train_ols[features])\n",
    "X_select = sm.add_constant(X_select)"
   ]
  },
  {
   "cell_type": "markdown",
   "metadata": {},
   "source": [
    "### OLS"
   ]
  },
  {
   "cell_type": "code",
   "execution_count": 225,
   "metadata": {
    "scrolled": true
   },
   "outputs": [
    {
     "name": "stdout",
     "output_type": "stream",
     "text": [
      "Parameters:\n",
      " const                                       2.723629\n",
      "Highest Adult Education                     0.068319\n",
      "num_assets                                  0.277516\n",
      "wealth score                                0.145816\n",
      "Urban/Rural_rural 0                        -0.404606\n",
      "Chair/Table                                -0.016724\n",
      "Color TV                                    0.400952\n",
      "Computer/Laptop                             0.284136\n",
      "Refrigerator                                0.570492\n",
      "Car                                         0.382638\n",
      "Caste_Forward/General (except Brahmin) 2    0.195221\n",
      "Religion_Muslim 2                           0.093765\n",
      "dtype: float64\n",
      "Regression Table: \n",
      "                             OLS Regression Results                            \n",
      "==============================================================================\n",
      "Dep. Variable:         Income Deciles   R-squared:                       0.374\n",
      "Model:                            OLS   Adj. R-squared:                  0.373\n",
      "Method:                 Least Squares   F-statistic:                     1544.\n",
      "Date:                Tue, 24 Nov 2020   Prob (F-statistic):               0.00\n",
      "Time:                        18:21:07   Log-Likelihood:                -63544.\n",
      "No. Observations:               28505   AIC:                         1.271e+05\n",
      "Df Residuals:                   28493   BIC:                         1.272e+05\n",
      "Df Model:                          11                                         \n",
      "Covariance Type:            nonrobust                                         \n",
      "============================================================================================================\n",
      "                                               coef    std err          t      P>|t|      [0.025      0.975]\n",
      "------------------------------------------------------------------------------------------------------------\n",
      "const                                        2.7236      0.053     51.175      0.000       2.619       2.828\n",
      "Highest Adult Education                      0.0683      0.003     19.807      0.000       0.062       0.075\n",
      "num_assets                                   0.2775      0.010     28.225      0.000       0.258       0.297\n",
      "wealth score                                 0.1458      0.046      3.188      0.001       0.056       0.235\n",
      "Urban/Rural_rural 0                         -0.4046      0.032    -12.808      0.000      -0.467      -0.343\n",
      "Chair/Table                                 -0.0167      0.042     -0.396      0.692      -0.099       0.066\n",
      "Color TV                                     0.4010      0.042      9.649      0.000       0.320       0.482\n",
      "Computer/Laptop                              0.2841      0.061      4.669      0.000       0.165       0.403\n",
      "Refrigerator                                 0.5705      0.043     13.138      0.000       0.485       0.656\n",
      "Car                                          0.3826      0.068      5.651      0.000       0.250       0.515\n",
      "Caste_Forward/General (except Brahmin) 2     0.1952      0.033      5.930      0.000       0.131       0.260\n",
      "Religion_Muslim 2                            0.0938      0.043      2.179      0.029       0.009       0.178\n",
      "==============================================================================\n",
      "Omnibus:                      315.927   Durbin-Watson:                   2.015\n",
      "Prob(Omnibus):                  0.000   Jarque-Bera (JB):              324.938\n",
      "Skew:                          -0.258   Prob(JB):                     2.76e-71\n",
      "Kurtosis:                       2.911   Cond. No.                         68.6\n",
      "==============================================================================\n",
      "\n",
      "Warnings:\n",
      "[1] Standard Errors assume that the covariance matrix of the errors is correctly specified.\n"
     ]
    }
   ],
   "source": [
    "lr_model = sm.OLS(Y_dec_train.astype(np.int), X_select.astype(np.int), hasconst=True)\n",
    "results = lr_model.fit()\n",
    "print(\"Parameters:\\n\", results.params)\n",
    "print(\"Regression Table: \\n\", results.summary())\n",
    "\n",
    "with open('summary.txt', 'w') as fh:\n",
    "    fh.write(results.summary().as_text())"
   ]
  },
  {
   "cell_type": "code",
   "execution_count": 226,
   "metadata": {},
   "outputs": [],
   "source": [
    "pred_income_deciles = np.round(results.predict())"
   ]
  },
  {
   "cell_type": "code",
   "execution_count": 229,
   "metadata": {},
   "outputs": [
    {
     "data": {
      "text/plain": [
       "5.136818102087353"
      ]
     },
     "execution_count": 229,
     "metadata": {},
     "output_type": "execute_result"
    }
   ],
   "source": [
    "metrics.mean_squared_error(pred_income_deciles, Y_dec_train)"
   ]
  },
  {
   "cell_type": "code",
   "execution_count": 230,
   "metadata": {
    "scrolled": true
   },
   "outputs": [
    {
     "data": {
      "text/plain": [
       "0.15955095597263638"
      ]
     },
     "execution_count": 230,
     "metadata": {},
     "output_type": "execute_result"
    }
   ],
   "source": [
    "metrics.accuracy_score(pred_income_deciles, Y_dec_train)"
   ]
  },
  {
   "cell_type": "code",
   "execution_count": 231,
   "metadata": {},
   "outputs": [
    {
     "data": {
      "text/plain": [
       "-0.6603891152730246"
      ]
     },
     "execution_count": 231,
     "metadata": {},
     "output_type": "execute_result"
    }
   ],
   "source": [
    "metrics.r2_score(pred_income_deciles, Y_dec_train)"
   ]
  },
  {
   "cell_type": "markdown",
   "metadata": {},
   "source": [
    "### SKLearn"
   ]
  },
  {
   "cell_type": "code",
   "execution_count": 232,
   "metadata": {},
   "outputs": [],
   "source": [
    "pipeline_lr.fit(X_train, Y_dec_train)\n",
    "pred_linear = pipeline_lr.predict(X_train)"
   ]
  },
  {
   "cell_type": "code",
   "execution_count": 233,
   "metadata": {},
   "outputs": [],
   "source": [
    "lr_model = pipeline_lr.named_steps['model']"
   ]
  },
  {
   "cell_type": "code",
   "execution_count": 234,
   "metadata": {},
   "outputs": [
    {
     "name": "stdout",
     "output_type": "stream",
     "text": [
      "-683367.6799402251\n",
      "[('Electricity', -0.6036012294398798), ('Pressure Cooker', 1.653244814381976), ('Chair/Table', 0.1585752291395317), ('Electric Fan', -0.39206379593418694), ('Black and White TV', -0.023231768948972054), ('Color TV', -1.1807657085078183), ('Sewing Machine', -0.5828429219444353), ('Mobile Telephone', -0.3244639016515831), ('Landline Telephone', 0.029449861645696573), ('Computer/Laptop', -0.36835817933184856), ('Refrigerator', -0.5786666244132516), ('AC', 0.047463602419277384), ('Washing Machine', 0.38240793130990863), ('Watch/Clock', 0.697165072628777), ('Bicycle', -0.8608191356596022), ('Motorcycle/Scooter', -0.07366369660533878), ('Car', 0.2767098450270319), ('State', -0.729107986063243), ('Urban/Rural', -0.10259588214782411), ('Religion', 0.5132853918945078), ('Caste', 1.7461581424801027), ('Highest Male Education', 1.0986156735448036), ('Highest Female Education', 0.27668757162532814), ('Highest Adult Education', -0.7860795850738231), ('num_assets', -0.2101927598526933), ('wealth score', -0.2094466022438033)]\n"
     ]
    }
   ],
   "source": [
    "print(lr_model.intercept_)\n",
    "print(list(zip(X_train.columns, lr_model.coef_)))"
   ]
  },
  {
   "cell_type": "code",
   "execution_count": 235,
   "metadata": {},
   "outputs": [
    {
     "data": {
      "text/plain": [
       "{'memory': None,\n",
       " 'steps': [('preprocessor',\n",
       "   ColumnTransformer(n_jobs=None, remainder='passthrough', sparse_threshold=0.3,\n",
       "                     transformer_weights=None,\n",
       "                     transformers=[('cat',\n",
       "                                    Pipeline(memory=None,\n",
       "                                             steps=[('onehot',\n",
       "                                                     OneHotEncoder(categories='auto',\n",
       "                                                                   drop=None,\n",
       "                                                                   dtype=<class 'numpy.float64'>,\n",
       "                                                                   handle_unknown='ignore',\n",
       "                                                                   sparse=True))],\n",
       "                                             verbose=False),\n",
       "                                    ['State', 'Urban/Rural', 'Religion',\n",
       "                                     'Caste'])],\n",
       "                     verbose=False)),\n",
       "  ('model',\n",
       "   LinearRegression(copy_X=True, fit_intercept=True, n_jobs=None, normalize=False))],\n",
       " 'verbose': False,\n",
       " 'preprocessor': ColumnTransformer(n_jobs=None, remainder='passthrough', sparse_threshold=0.3,\n",
       "                   transformer_weights=None,\n",
       "                   transformers=[('cat',\n",
       "                                  Pipeline(memory=None,\n",
       "                                           steps=[('onehot',\n",
       "                                                   OneHotEncoder(categories='auto',\n",
       "                                                                 drop=None,\n",
       "                                                                 dtype=<class 'numpy.float64'>,\n",
       "                                                                 handle_unknown='ignore',\n",
       "                                                                 sparse=True))],\n",
       "                                           verbose=False),\n",
       "                                  ['State', 'Urban/Rural', 'Religion',\n",
       "                                   'Caste'])],\n",
       "                   verbose=False),\n",
       " 'model': LinearRegression(copy_X=True, fit_intercept=True, n_jobs=None, normalize=False),\n",
       " 'preprocessor__n_jobs': None,\n",
       " 'preprocessor__remainder': 'passthrough',\n",
       " 'preprocessor__sparse_threshold': 0.3,\n",
       " 'preprocessor__transformer_weights': None,\n",
       " 'preprocessor__transformers': [('cat',\n",
       "   Pipeline(memory=None,\n",
       "            steps=[('onehot',\n",
       "                    OneHotEncoder(categories='auto', drop=None,\n",
       "                                  dtype=<class 'numpy.float64'>,\n",
       "                                  handle_unknown='ignore', sparse=True))],\n",
       "            verbose=False),\n",
       "   ['State', 'Urban/Rural', 'Religion', 'Caste'])],\n",
       " 'preprocessor__verbose': False,\n",
       " 'preprocessor__cat': Pipeline(memory=None,\n",
       "          steps=[('onehot',\n",
       "                  OneHotEncoder(categories='auto', drop=None,\n",
       "                                dtype=<class 'numpy.float64'>,\n",
       "                                handle_unknown='ignore', sparse=True))],\n",
       "          verbose=False),\n",
       " 'preprocessor__cat__memory': None,\n",
       " 'preprocessor__cat__steps': [('onehot',\n",
       "   OneHotEncoder(categories='auto', drop=None, dtype=<class 'numpy.float64'>,\n",
       "                 handle_unknown='ignore', sparse=True))],\n",
       " 'preprocessor__cat__verbose': False,\n",
       " 'preprocessor__cat__onehot': OneHotEncoder(categories='auto', drop=None, dtype=<class 'numpy.float64'>,\n",
       "               handle_unknown='ignore', sparse=True),\n",
       " 'preprocessor__cat__onehot__categories': 'auto',\n",
       " 'preprocessor__cat__onehot__drop': None,\n",
       " 'preprocessor__cat__onehot__dtype': numpy.float64,\n",
       " 'preprocessor__cat__onehot__handle_unknown': 'ignore',\n",
       " 'preprocessor__cat__onehot__sparse': True,\n",
       " 'model__copy_X': True,\n",
       " 'model__fit_intercept': True,\n",
       " 'model__n_jobs': None,\n",
       " 'model__normalize': False}"
      ]
     },
     "execution_count": 235,
     "metadata": {},
     "output_type": "execute_result"
    }
   ],
   "source": [
    "pipeline_lr.get_params()"
   ]
  },
  {
   "cell_type": "code",
   "execution_count": 236,
   "metadata": {},
   "outputs": [
    {
     "data": {
      "text/plain": [
       "4.81174606921548"
      ]
     },
     "execution_count": 236,
     "metadata": {},
     "output_type": "execute_result"
    }
   ],
   "source": [
    "metrics.mean_squared_error(Y_dec_train, pred_linear)"
   ]
  },
  {
   "cell_type": "code",
   "execution_count": 237,
   "metadata": {},
   "outputs": [
    {
     "data": {
      "text/plain": [
       "0.40378595237156045"
      ]
     },
     "execution_count": 237,
     "metadata": {},
     "output_type": "execute_result"
    }
   ],
   "source": [
    "metrics.r2_score(Y_dec_train, pred_linear)"
   ]
  },
  {
   "cell_type": "code",
   "execution_count": 238,
   "metadata": {},
   "outputs": [
    {
     "data": {
      "text/plain": [
       "0.15955095597263638"
      ]
     },
     "execution_count": 238,
     "metadata": {},
     "output_type": "execute_result"
    }
   ],
   "source": [
    "metrics.accuracy_score(pred_income_deciles, Y_dec_train)"
   ]
  },
  {
   "cell_type": "code",
   "execution_count": 239,
   "metadata": {},
   "outputs": [
    {
     "data": {
      "text/plain": [
       "0.16621645325381512"
      ]
     },
     "execution_count": 239,
     "metadata": {},
     "output_type": "execute_result"
    }
   ],
   "source": [
    "np.mean(cross_val_score(pipeline_lr, X_train, Y_dec_train, \n",
    "                            scoring=make_linear_scorer(metrics.accuracy_score), \n",
    "                            cv=5))"
   ]
  },
  {
   "cell_type": "code",
   "execution_count": 240,
   "metadata": {},
   "outputs": [
    {
     "data": {
      "text/plain": [
       "0.3902499910528531"
      ]
     },
     "execution_count": 240,
     "metadata": {},
     "output_type": "execute_result"
    }
   ],
   "source": [
    "np.mean(cross_val_score(pipeline_lr, X_train, Y_dec_train, \n",
    "                            scoring=make_linear_scorer(metrics.r2_score), \n",
    "                            cv=5))"
   ]
  },
  {
   "cell_type": "code",
   "execution_count": 241,
   "metadata": {},
   "outputs": [],
   "source": [
    "pred_income_percentiles = pd.qcut(pred_linear, 4, labels=np.arange(1, 5))"
   ]
  },
  {
   "cell_type": "markdown",
   "metadata": {},
   "source": [
    "### Logistic Regression"
   ]
  },
  {
   "cell_type": "code",
   "execution_count": 242,
   "metadata": {},
   "outputs": [],
   "source": [
    "categorical_transformer = Pipeline(steps=[\n",
    "    ('onehot', OneHotEncoder(handle_unknown='ignore'))])\n",
    "\n",
    "preprocessor = ColumnTransformer(\n",
    "    transformers=[\n",
    "        ('cat', categorical_transformer, ihds_demo_array)\n",
    "    ],\n",
    "        remainder='passthrough'\n",
    "    )\n",
    "\n",
    "pipeline = Pipeline(\n",
    "    [\n",
    "    ('preprocessor', preprocessor),\n",
    "    ('model', LogisticRegression(random_state=42))\n",
    "    ]\n",
    ")"
   ]
  },
  {
   "cell_type": "code",
   "execution_count": 243,
   "metadata": {},
   "outputs": [
    {
     "name": "stdout",
     "output_type": "stream",
     "text": [
      "Training Accuracy:  0.23873004736011227\n"
     ]
    },
    {
     "name": "stderr",
     "output_type": "stream",
     "text": [
      "/Users/vatsalbajaj/opt/anaconda3/lib/python3.7/site-packages/sklearn/linear_model/_logistic.py:940: ConvergenceWarning: lbfgs failed to converge (status=1):\n",
      "STOP: TOTAL NO. of ITERATIONS REACHED LIMIT.\n",
      "\n",
      "Increase the number of iterations (max_iter) or scale the data as shown in:\n",
      "    https://scikit-learn.org/stable/modules/preprocessing.html\n",
      "Please also refer to the documentation for alternative solver options:\n",
      "    https://scikit-learn.org/stable/modules/linear_model.html#logistic-regression\n",
      "  extra_warning_msg=_LOGISTIC_SOLVER_CONVERGENCE_MSG)\n"
     ]
    }
   ],
   "source": [
    "#logistic_model = LogisticRegression(max_iter=100, class_weight='balanced', solver='sag')\n",
    "pipeline.fit(X_train, Y_dec_train)\n",
    "pred_logistic = pipeline.predict(X_train)\n",
    "print(\"Training Accuracy: \", accuracy_score(Y_dec_train,pred_logistic))"
   ]
  },
  {
   "cell_type": "code",
   "execution_count": 244,
   "metadata": {},
   "outputs": [
    {
     "data": {
      "text/plain": [
       "0.11536045920793492"
      ]
     },
     "execution_count": 244,
     "metadata": {},
     "output_type": "execute_result"
    }
   ],
   "source": [
    "metrics.r2_score(Y_dec_train, pred_logistic)"
   ]
  },
  {
   "cell_type": "code",
   "execution_count": 245,
   "metadata": {},
   "outputs": [
    {
     "name": "stderr",
     "output_type": "stream",
     "text": [
      "/Users/vatsalbajaj/opt/anaconda3/lib/python3.7/site-packages/sklearn/linear_model/_logistic.py:940: ConvergenceWarning: lbfgs failed to converge (status=1):\n",
      "STOP: TOTAL NO. of ITERATIONS REACHED LIMIT.\n",
      "\n",
      "Increase the number of iterations (max_iter) or scale the data as shown in:\n",
      "    https://scikit-learn.org/stable/modules/preprocessing.html\n",
      "Please also refer to the documentation for alternative solver options:\n",
      "    https://scikit-learn.org/stable/modules/linear_model.html#logistic-regression\n",
      "  extra_warning_msg=_LOGISTIC_SOLVER_CONVERGENCE_MSG)\n",
      "/Users/vatsalbajaj/opt/anaconda3/lib/python3.7/site-packages/sklearn/linear_model/_logistic.py:940: ConvergenceWarning: lbfgs failed to converge (status=1):\n",
      "STOP: TOTAL NO. of ITERATIONS REACHED LIMIT.\n",
      "\n",
      "Increase the number of iterations (max_iter) or scale the data as shown in:\n",
      "    https://scikit-learn.org/stable/modules/preprocessing.html\n",
      "Please also refer to the documentation for alternative solver options:\n",
      "    https://scikit-learn.org/stable/modules/linear_model.html#logistic-regression\n",
      "  extra_warning_msg=_LOGISTIC_SOLVER_CONVERGENCE_MSG)\n",
      "/Users/vatsalbajaj/opt/anaconda3/lib/python3.7/site-packages/sklearn/linear_model/_logistic.py:940: ConvergenceWarning: lbfgs failed to converge (status=1):\n",
      "STOP: TOTAL NO. of ITERATIONS REACHED LIMIT.\n",
      "\n",
      "Increase the number of iterations (max_iter) or scale the data as shown in:\n",
      "    https://scikit-learn.org/stable/modules/preprocessing.html\n",
      "Please also refer to the documentation for alternative solver options:\n",
      "    https://scikit-learn.org/stable/modules/linear_model.html#logistic-regression\n",
      "  extra_warning_msg=_LOGISTIC_SOLVER_CONVERGENCE_MSG)\n",
      "/Users/vatsalbajaj/opt/anaconda3/lib/python3.7/site-packages/sklearn/linear_model/_logistic.py:940: ConvergenceWarning: lbfgs failed to converge (status=1):\n",
      "STOP: TOTAL NO. of ITERATIONS REACHED LIMIT.\n",
      "\n",
      "Increase the number of iterations (max_iter) or scale the data as shown in:\n",
      "    https://scikit-learn.org/stable/modules/preprocessing.html\n",
      "Please also refer to the documentation for alternative solver options:\n",
      "    https://scikit-learn.org/stable/modules/linear_model.html#logistic-regression\n",
      "  extra_warning_msg=_LOGISTIC_SOLVER_CONVERGENCE_MSG)\n",
      "/Users/vatsalbajaj/opt/anaconda3/lib/python3.7/site-packages/sklearn/linear_model/_logistic.py:940: ConvergenceWarning: lbfgs failed to converge (status=1):\n",
      "STOP: TOTAL NO. of ITERATIONS REACHED LIMIT.\n",
      "\n",
      "Increase the number of iterations (max_iter) or scale the data as shown in:\n",
      "    https://scikit-learn.org/stable/modules/preprocessing.html\n",
      "Please also refer to the documentation for alternative solver options:\n",
      "    https://scikit-learn.org/stable/modules/linear_model.html#logistic-regression\n",
      "  extra_warning_msg=_LOGISTIC_SOLVER_CONVERGENCE_MSG)\n"
     ]
    },
    {
     "data": {
      "text/plain": [
       "0.22624101034906158"
      ]
     },
     "execution_count": 245,
     "metadata": {},
     "output_type": "execute_result"
    }
   ],
   "source": [
    "np.mean(cross_val_score(pipeline, X_train, Y_dec_train, \n",
    "                            scoring=make_scorer(metrics.accuracy_score), \n",
    "                            cv=5))"
   ]
  },
  {
   "cell_type": "code",
   "execution_count": 246,
   "metadata": {},
   "outputs": [
    {
     "name": "stderr",
     "output_type": "stream",
     "text": [
      "/Users/vatsalbajaj/opt/anaconda3/lib/python3.7/site-packages/sklearn/linear_model/_logistic.py:940: ConvergenceWarning: lbfgs failed to converge (status=1):\n",
      "STOP: TOTAL NO. of ITERATIONS REACHED LIMIT.\n",
      "\n",
      "Increase the number of iterations (max_iter) or scale the data as shown in:\n",
      "    https://scikit-learn.org/stable/modules/preprocessing.html\n",
      "Please also refer to the documentation for alternative solver options:\n",
      "    https://scikit-learn.org/stable/modules/linear_model.html#logistic-regression\n",
      "  extra_warning_msg=_LOGISTIC_SOLVER_CONVERGENCE_MSG)\n",
      "/Users/vatsalbajaj/opt/anaconda3/lib/python3.7/site-packages/sklearn/linear_model/_logistic.py:940: ConvergenceWarning: lbfgs failed to converge (status=1):\n",
      "STOP: TOTAL NO. of ITERATIONS REACHED LIMIT.\n",
      "\n",
      "Increase the number of iterations (max_iter) or scale the data as shown in:\n",
      "    https://scikit-learn.org/stable/modules/preprocessing.html\n",
      "Please also refer to the documentation for alternative solver options:\n",
      "    https://scikit-learn.org/stable/modules/linear_model.html#logistic-regression\n",
      "  extra_warning_msg=_LOGISTIC_SOLVER_CONVERGENCE_MSG)\n",
      "/Users/vatsalbajaj/opt/anaconda3/lib/python3.7/site-packages/sklearn/linear_model/_logistic.py:940: ConvergenceWarning: lbfgs failed to converge (status=1):\n",
      "STOP: TOTAL NO. of ITERATIONS REACHED LIMIT.\n",
      "\n",
      "Increase the number of iterations (max_iter) or scale the data as shown in:\n",
      "    https://scikit-learn.org/stable/modules/preprocessing.html\n",
      "Please also refer to the documentation for alternative solver options:\n",
      "    https://scikit-learn.org/stable/modules/linear_model.html#logistic-regression\n",
      "  extra_warning_msg=_LOGISTIC_SOLVER_CONVERGENCE_MSG)\n",
      "/Users/vatsalbajaj/opt/anaconda3/lib/python3.7/site-packages/sklearn/linear_model/_logistic.py:940: ConvergenceWarning: lbfgs failed to converge (status=1):\n",
      "STOP: TOTAL NO. of ITERATIONS REACHED LIMIT.\n",
      "\n",
      "Increase the number of iterations (max_iter) or scale the data as shown in:\n",
      "    https://scikit-learn.org/stable/modules/preprocessing.html\n",
      "Please also refer to the documentation for alternative solver options:\n",
      "    https://scikit-learn.org/stable/modules/linear_model.html#logistic-regression\n",
      "  extra_warning_msg=_LOGISTIC_SOLVER_CONVERGENCE_MSG)\n",
      "/Users/vatsalbajaj/opt/anaconda3/lib/python3.7/site-packages/sklearn/linear_model/_logistic.py:940: ConvergenceWarning: lbfgs failed to converge (status=1):\n",
      "STOP: TOTAL NO. of ITERATIONS REACHED LIMIT.\n",
      "\n",
      "Increase the number of iterations (max_iter) or scale the data as shown in:\n",
      "    https://scikit-learn.org/stable/modules/preprocessing.html\n",
      "Please also refer to the documentation for alternative solver options:\n",
      "    https://scikit-learn.org/stable/modules/linear_model.html#logistic-regression\n",
      "  extra_warning_msg=_LOGISTIC_SOLVER_CONVERGENCE_MSG)\n"
     ]
    },
    {
     "data": {
      "text/plain": [
       "0.10948176456001871"
      ]
     },
     "execution_count": 246,
     "metadata": {},
     "output_type": "execute_result"
    }
   ],
   "source": [
    "np.mean(cross_val_score(pipeline, X_train, Y_dec_train, \n",
    "                            scoring=make_scorer(metrics.r2_score), \n",
    "                            cv=5))"
   ]
  },
  {
   "cell_type": "markdown",
   "metadata": {},
   "source": [
    "### Decision Tree"
   ]
  },
  {
   "cell_type": "code",
   "execution_count": 247,
   "metadata": {},
   "outputs": [],
   "source": [
    "X_train_tree = X_train.copy(deep=True)"
   ]
  },
  {
   "cell_type": "code",
   "execution_count": 248,
   "metadata": {},
   "outputs": [],
   "source": [
    "append_df = pd.get_dummies(X_train_tree)"
   ]
  },
  {
   "cell_type": "code",
   "execution_count": 249,
   "metadata": {},
   "outputs": [],
   "source": [
    "X_train_tree.drop(ihds_demo_array, inplace=True, axis=1)"
   ]
  },
  {
   "cell_type": "code",
   "execution_count": 250,
   "metadata": {},
   "outputs": [],
   "source": [
    "X_train_tree = pd.concat([X_train_tree, append_df], axis=1)"
   ]
  },
  {
   "cell_type": "code",
   "execution_count": 251,
   "metadata": {},
   "outputs": [],
   "source": [
    "from sklearn import tree\n",
    "\n",
    "pipeline = Pipeline(steps=[\n",
    "    ('model', tree.DecisionTreeClassifier(max_depth=4))\n",
    "])"
   ]
  },
  {
   "cell_type": "code",
   "execution_count": 252,
   "metadata": {},
   "outputs": [],
   "source": [
    "dt_model = pipeline['model']"
   ]
  },
  {
   "cell_type": "code",
   "execution_count": 253,
   "metadata": {
    "scrolled": true
   },
   "outputs": [
    {
     "data": {
      "text/plain": [
       "Pipeline(memory=None,\n",
       "         steps=[('model',\n",
       "                 DecisionTreeClassifier(ccp_alpha=0.0, class_weight=None,\n",
       "                                        criterion='gini', max_depth=4,\n",
       "                                        max_features=None, max_leaf_nodes=None,\n",
       "                                        min_impurity_decrease=0.0,\n",
       "                                        min_impurity_split=None,\n",
       "                                        min_samples_leaf=1, min_samples_split=2,\n",
       "                                        min_weight_fraction_leaf=0.0,\n",
       "                                        presort='deprecated', random_state=None,\n",
       "                                        splitter='best'))],\n",
       "         verbose=False)"
      ]
     },
     "execution_count": 253,
     "metadata": {},
     "output_type": "execute_result"
    }
   ],
   "source": [
    "pipeline.fit(X_train_tree, Y_dec_train)"
   ]
  },
  {
   "cell_type": "code",
   "execution_count": 254,
   "metadata": {},
   "outputs": [],
   "source": [
    "tree_pred = pipeline.predict(X_train_tree)"
   ]
  },
  {
   "cell_type": "code",
   "execution_count": 255,
   "metadata": {},
   "outputs": [],
   "source": [
    "class_names = np.arange(1, 11)\n",
    "class_names = [str(c) for c in class_names]"
   ]
  },
  {
   "cell_type": "code",
   "execution_count": 256,
   "metadata": {},
   "outputs": [],
   "source": [
    "features = np.array(X_train_tree.columns)"
   ]
  },
  {
   "cell_type": "code",
   "execution_count": 257,
   "metadata": {},
   "outputs": [
    {
     "data": {
      "text/html": [
       "        <script type=\"text/javascript\">\n",
       "        window.PlotlyConfig = {MathJaxConfig: 'local'};\n",
       "        if (window.MathJax) {MathJax.Hub.Config({SVG: {font: \"STIX-Web\"}});}\n",
       "        if (typeof require !== 'undefined') {\n",
       "        require.undef(\"plotly\");\n",
       "        requirejs.config({\n",
       "            paths: {\n",
       "                'plotly': ['https://cdn.plot.ly/plotly-latest.min']\n",
       "            }\n",
       "        });\n",
       "        require(['plotly'], function(Plotly) {\n",
       "            window._Plotly = Plotly;\n",
       "        });\n",
       "        }\n",
       "        </script>\n",
       "        "
      ]
     },
     "metadata": {},
     "output_type": "display_data"
    },
    {
     "data": {
      "text/html": [
       "        <script type=\"text/javascript\">\n",
       "        window.PlotlyConfig = {MathJaxConfig: 'local'};\n",
       "        if (window.MathJax) {MathJax.Hub.Config({SVG: {font: \"STIX-Web\"}});}\n",
       "        if (typeof require !== 'undefined') {\n",
       "        require.undef(\"plotly\");\n",
       "        requirejs.config({\n",
       "            paths: {\n",
       "                'plotly': ['https://cdn.plot.ly/plotly-latest.min']\n",
       "            }\n",
       "        });\n",
       "        require(['plotly'], function(Plotly) {\n",
       "            window._Plotly = Plotly;\n",
       "        });\n",
       "        }\n",
       "        </script>\n",
       "        "
      ]
     },
     "metadata": {},
     "output_type": "display_data"
    }
   ],
   "source": [
    "import plotly.offline as py\n",
    "import plotly.express as px\n",
    "import plotly.graph_objects as go\n",
    "from plotly.subplots import make_subplots\n",
    "import plotly.figure_factory as ff\n",
    "import cufflinks as cf\n",
    "cf.set_config_file(offline=True, sharing=False, theme='ggplot');\n",
    "import matplotlib.pyplot as plt\n",
    "import seaborn as sns"
   ]
  },
  {
   "cell_type": "code",
   "execution_count": 258,
   "metadata": {},
   "outputs": [],
   "source": [
    "# import graphviz\n",
    "# dot_data = tree.export_graphviz(dt_model, out_file=None, \n",
    "#                       feature_names=features,  \n",
    "#                       class_names=class_names,  \n",
    "#                       filled=True, rounded=True,  \n",
    "#                       special_characters=True, proportion = True)  \n",
    "# graph = graphviz.Source(dot_data)\n",
    "# graph.render(format=\"png\", filename=\"education_depth_4\") # Weird error with demography?\n",
    "# graph"
   ]
  },
  {
   "cell_type": "markdown",
   "metadata": {},
   "source": [
    "### Random Forest Classifier"
   ]
  },
  {
   "cell_type": "code",
   "execution_count": 259,
   "metadata": {},
   "outputs": [],
   "source": [
    "from sklearn.naive_bayes import MultinomialNB\n",
    "from sklearn.metrics import confusion_matrix\n",
    "from sklearn.neural_network import MLPClassifier"
   ]
  },
  {
   "cell_type": "code",
   "execution_count": 260,
   "metadata": {},
   "outputs": [],
   "source": [
    "categorical_transformer = Pipeline(steps=[\n",
    "    ('onehot', OneHotEncoder(handle_unknown='ignore'))])\n",
    "\n",
    "preprocessor = ColumnTransformer(\n",
    "    transformers=[\n",
    "        ('cat', categorical_transformer, ihds_demo_array)\n",
    "    ],\n",
    "        remainder='passthrough'\n",
    "    )\n",
    "\n",
    "pipeline = Pipeline(steps=[\n",
    "    ('preprocessor', preprocessor),\n",
    "    ('scaler', StandardScaler()),\n",
    "    ('model', RandomForestClassifier())\n",
    "])"
   ]
  },
  {
   "cell_type": "code",
   "execution_count": 261,
   "metadata": {},
   "outputs": [
    {
     "data": {
      "text/plain": [
       "Index(['Electricity', 'Pressure Cooker', 'Chair/Table', 'Electric Fan',\n",
       "       'Black and White TV', 'Color TV', 'Sewing Machine', 'Mobile Telephone',\n",
       "       'Landline Telephone', 'Computer/Laptop', 'Refrigerator', 'AC',\n",
       "       'Washing Machine', 'Watch/Clock', 'Bicycle', 'Motorcycle/Scooter',\n",
       "       'Car', 'State', 'Urban/Rural', 'Religion', 'Caste',\n",
       "       'Highest Male Education', 'Highest Female Education',\n",
       "       'Highest Adult Education', 'num_assets', 'wealth score'],\n",
       "      dtype='object')"
      ]
     },
     "execution_count": 261,
     "metadata": {},
     "output_type": "execute_result"
    }
   ],
   "source": [
    "X_train.columns"
   ]
  },
  {
   "cell_type": "code",
   "execution_count": 262,
   "metadata": {},
   "outputs": [
    {
     "data": {
      "text/plain": [
       "0.9325030696369058"
      ]
     },
     "execution_count": 262,
     "metadata": {},
     "output_type": "execute_result"
    }
   ],
   "source": [
    "pipeline.fit(X_train, Y_dec_train)\n",
    "rf_pred = pipeline.predict(X_train)\n",
    "metrics.accuracy_score(rf_pred, Y_dec_train)"
   ]
  },
  {
   "cell_type": "code",
   "execution_count": 263,
   "metadata": {},
   "outputs": [
    {
     "data": {
      "text/plain": [
       "0.19901771619014208"
      ]
     },
     "execution_count": 263,
     "metadata": {},
     "output_type": "execute_result"
    }
   ],
   "source": [
    "np.mean(cross_val_score(pipeline, X_train, Y_dec_train, \n",
    "                            scoring=make_scorer(metrics.accuracy_score), \n",
    "                            cv=5))"
   ]
  },
  {
   "cell_type": "code",
   "execution_count": 264,
   "metadata": {},
   "outputs": [],
   "source": [
    "import pylab as pl"
   ]
  },
  {
   "cell_type": "code",
   "execution_count": 265,
   "metadata": {},
   "outputs": [
    {
     "data": {
      "image/png": "[encoded data removed]",
      "text/plain": [
       "<Figure size 288x288 with 2 Axes>"
      ]
     },
     "metadata": {
      "needs_background": "light"
     },
     "output_type": "display_data"
    }
   ],
   "source": [
    "cm = confusion_matrix(Y_dec_train, rf_pred)\n",
    "pl.matshow(cm)\n",
    "#pl.title('Confusion matrix of the classifier')\n",
    "pl.colorbar()\n",
    "pl.show()"
   ]
  },
  {
   "cell_type": "code",
   "execution_count": 266,
   "metadata": {
    "scrolled": true
   },
   "outputs": [
    {
     "name": "stdout",
     "output_type": "stream",
     "text": [
      "              precision    recall  f1-score   support\n",
      "\n",
      "           1       0.36      0.94      0.52      2491\n",
      "           2       0.02      0.05      0.03      2732\n",
      "           3       0.01      0.02      0.01      2736\n",
      "           4       0.00      0.01      0.00      2797\n",
      "           5       0.00      0.00      0.00      2875\n",
      "           6       0.00      0.00      0.00      2930\n",
      "           7       0.00      0.00      0.00      2956\n",
      "           8       0.00      0.00      0.00      2950\n",
      "           9       0.00      0.00      0.00      2990\n",
      "          10       0.00      0.00      0.00      3048\n",
      "\n",
      "    accuracy                           0.09     28505\n",
      "   macro avg       0.04      0.10      0.06     28505\n",
      "weighted avg       0.03      0.09      0.05     28505\n",
      "\n"
     ]
    },
    {
     "name": "stderr",
     "output_type": "stream",
     "text": [
      "/Users/vatsalbajaj/opt/anaconda3/lib/python3.7/site-packages/sklearn/metrics/_classification.py:1272: UndefinedMetricWarning:\n",
      "\n",
      "Precision and F-score are ill-defined and being set to 0.0 in labels with no predicted samples. Use `zero_division` parameter to control this behavior.\n",
      "\n"
     ]
    }
   ],
   "source": [
    "print(classification_report(pipeline.predict(X_train), Y_quar_train))"
   ]
  },
  {
   "cell_type": "code",
   "execution_count": 279,
   "metadata": {},
   "outputs": [
    {
     "data": {
      "text/plain": [
       "<matplotlib.axes._subplots.AxesSubplot at 0x1a2865a350>"
      ]
     },
     "execution_count": 279,
     "metadata": {},
     "output_type": "execute_result"
    },
    {
     "data": {
      "image/png": "[encoded data removed]",
      "text/plain": [
       "<Figure size 432x288 with 1 Axes>"
      ]
     },
     "metadata": {
      "needs_background": "light"
     },
     "output_type": "display_data"
    }
   ],
   "source": [
    "sns.scatterplot(x=rf_pred, y=Y_perc_train)"
   ]
  },
  {
   "cell_type": "code",
   "execution_count": 280,
   "metadata": {},
   "outputs": [
    {
     "data": {
      "text/plain": [
       "-0.3792732349743939"
      ]
     },
     "execution_count": 280,
     "metadata": {},
     "output_type": "execute_result"
    }
   ],
   "source": [
    "metrics.r2_score(Y_train, rf_pred)"
   ]
  },
  {
   "cell_type": "code",
   "execution_count": 281,
   "metadata": {},
   "outputs": [
    {
     "data": {
      "text/plain": [
       "0.19891247149622876"
      ]
     },
     "execution_count": 281,
     "metadata": {},
     "output_type": "execute_result"
    }
   ],
   "source": [
    "np.mean(cross_val_score(pipeline, X_train, Y_dec_train, \n",
    "                            scoring=make_scorer(metrics.accuracy_score), \n",
    "                            cv=5))"
   ]
  },
  {
   "cell_type": "code",
   "execution_count": 282,
   "metadata": {
    "scrolled": true
   },
   "outputs": [
    {
     "data": {
      "text/plain": [
       "0.004374180245370484"
      ]
     },
     "execution_count": 282,
     "metadata": {},
     "output_type": "execute_result"
    }
   ],
   "source": [
    "np.mean(cross_val_score(pipeline, X_train, Y_quar_train, \n",
    "                            scoring=make_scorer(metrics.r2_score), \n",
    "                            cv=5))"
   ]
  },
  {
   "cell_type": "code",
   "execution_count": 272,
   "metadata": {},
   "outputs": [],
   "source": [
    "param_grid = {\n",
    "    'model__n_estimators': np.arange(10, 200, 10), \n",
    "    'model__max_depth': np.arange(0, 100, 5), \n",
    "    'model__ccp_alpha': np.arange(0, 0.5, 0.1),\n",
    "    'model__class_weight': ['balanced', None],\n",
    "    'model__max_features': np.arange(1, 26),\n",
    "    'model__min_samples_split': [2, 5, 10],\n",
    "    'model__min_samples_leaf': [1, 2, 4],\n",
    "    'model__bootstrap': [True, False]\n",
    "}"
   ]
  },
  {
   "cell_type": "code",
   "execution_count": 273,
   "metadata": {},
   "outputs": [],
   "source": [
    "search = RandomizedSearchCV(\n",
    "    estimator = pipeline,\n",
    "    param_distributions = param_grid,\n",
    "    n_iter = 100,\n",
    "    n_jobs=-1, \n",
    "    scoring='accuracy',\n",
    "    cv=3,\n",
    "    verbose=3,\n",
    "    pre_dispatch='n_jobs'\n",
    ")"
   ]
  },
  {
   "cell_type": "code",
   "execution_count": 275,
   "metadata": {},
   "outputs": [
    {
     "name": "stdout",
     "output_type": "stream",
     "text": [
      "Fitting 3 folds for each of 100 candidates, totalling 300 fits\n"
     ]
    },
    {
     "name": "stderr",
     "output_type": "stream",
     "text": [
      "[Parallel(n_jobs=-1)]: Using backend LokyBackend with 8 concurrent workers.\n",
      "[Parallel(n_jobs=-1)]: Done  24 tasks      | elapsed:   59.5s\n",
      "[Parallel(n_jobs=-1)]: Done 120 tasks      | elapsed:  4.7min\n",
      "[Parallel(n_jobs=-1)]: Done 280 tasks      | elapsed:  9.1min\n",
      "[Parallel(n_jobs=-1)]: Done 300 out of 300 | elapsed:  9.5min finished\n"
     ]
    },
    {
     "data": {
      "text/plain": [
       "RandomizedSearchCV(cv=3, error_score=nan,\n",
       "                   estimator=Pipeline(memory=None,\n",
       "                                      steps=[('preprocessor',\n",
       "                                              ColumnTransformer(n_jobs=None,\n",
       "                                                                remainder='passthrough',\n",
       "                                                                sparse_threshold=0.3,\n",
       "                                                                transformer_weights=None,\n",
       "                                                                transformers=[('cat',\n",
       "                                                                               Pipeline(memory=None,\n",
       "                                                                                        steps=[('onehot',\n",
       "                                                                                                OneHotEncoder(categories='auto',\n",
       "                                                                                                              drop=None,\n",
       "                                                                                                              dtype=<class 'numpy.float64'>,\n",
       "                                                                                                              handle_unknown='ignore',\n",
       "                                                                                                              sp...\n",
       "                                        'model__max_features': array([ 1,  2,  3,  4,  5,  6,  7,  8,  9, 10, 11, 12, 13, 14, 15, 16, 17,\n",
       "       18, 19, 20, 21, 22, 23, 24, 25]),\n",
       "                                        'model__min_samples_leaf': [1, 2, 4],\n",
       "                                        'model__min_samples_split': [2, 5, 10],\n",
       "                                        'model__n_estimators': array([ 10,  20,  30,  40,  50,  60,  70,  80,  90, 100, 110, 120, 130,\n",
       "       140, 150, 160, 170, 180, 190])},\n",
       "                   pre_dispatch='n_jobs', random_state=None, refit=True,\n",
       "                   return_train_score=False, scoring='accuracy', verbose=3)"
      ]
     },
     "execution_count": 275,
     "metadata": {},
     "output_type": "execute_result"
    }
   ],
   "source": [
    "search.fit(X_train, Y_quar_train)"
   ]
  },
  {
   "cell_type": "code",
   "execution_count": 276,
   "metadata": {},
   "outputs": [
    {
     "data": {
      "text/plain": [
       "{'model__n_estimators': 60,\n",
       " 'model__min_samples_split': 10,\n",
       " 'model__min_samples_leaf': 4,\n",
       " 'model__max_features': 3,\n",
       " 'model__max_depth': 15,\n",
       " 'model__class_weight': None,\n",
       " 'model__ccp_alpha': 0.0,\n",
       " 'model__bootstrap': True}"
      ]
     },
     "execution_count": 276,
     "metadata": {},
     "output_type": "execute_result"
    }
   ],
   "source": [
    "search.best_params_"
   ]
  },
  {
   "cell_type": "code",
   "execution_count": 277,
   "metadata": {
    "scrolled": true
   },
   "outputs": [
    {
     "data": {
      "text/plain": [
       "0.472829341659509"
      ]
     },
     "execution_count": 277,
     "metadata": {},
     "output_type": "execute_result"
    }
   ],
   "source": [
    "search.best_score_"
   ]
  },
  {
   "cell_type": "markdown",
   "metadata": {},
   "source": [
    "### Accuracy Table\n",
    "\n",
    "| Sample | Granularity | Num Features | Max Depth | CCP_alpha | N_estimators | Best Accuracy Score |\n",
    "| --- | --- | --- | --- | --- | --- | --- |\n",
    "| Full | Percentiles | 25 | 5 | 0 | 160 | 2.91 % |\n",
    "| Full | Deciles | 23 | 10 | 0 | 110 | 22.1 % |\n",
    "| Full | Quartiles | 23 | 10 | 0 | 10 | 46.4 % |\n",
    "| Teenage Girl HH | Percentiles | 25 | 5 | 0 | 110 | 2.8% |\n",
    "| Teenage Girl HH | Deciles | 18 | 5 | 0 | 60 | 20.5% |\n",
    "| Teenage Girl HH | Quartiles | 24 | 10 | 0 | 160 | 45.2% |"
   ]
  }
 ],
 "metadata": {
  "kernelspec": {
   "display_name": "Python 3",
   "language": "python",
   "name": "python3"
  },
  "language_info": {
   "codemirror_mode": {
    "name": "ipython",
    "version": 3
   },
   "file_extension": ".py",
   "mimetype": "text/x-python",
   "name": "python",
   "nbconvert_exporter": "python",
   "pygments_lexer": "ipython3",
   "version": "3.7.6"
  }
 },
 "nbformat": 4,
 "nbformat_minor": 4
}
